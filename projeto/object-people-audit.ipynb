{
 "cells": [
  {
   "cell_type": "markdown",
   "metadata": {},
   "source": [
    "# MBA FIAP Inteligência Artificial & Machine Learning\n",
    "\n",
    "## Visão Computacional Capstone\n",
    "## Processamento de imagens aplicada a auditoria automática de vídeo baseada em modelos de deep-learning\n",
    "\n",
    "\n",
    "Este projeto final tem como objetivo explorar os conhecimentos adquiridos nas aulas práticas. Por meio uma trilha guiada para construir uma aplicação que tem por objetivo analisar imagens e extrair uma série de informações que serão utilizadas para compor uma análise de imagens e vídeos afim de construir uma forma de auditoria automatizada baseado em modelos de inteligência artificial.\n",
    "\n",
    "\n",
    "<p align=\"center\">\n",
    "<img src=\"imagens-aux/example.png\">\n",
    "</p>\n",
    "\n",
    "\n",
    "Este projeto poderá ser feita por grupos de até 4 pessoas.\n",
    "\n",
    "| Nome dos Integrantes     | RM            | Turma |\n",
    "| :----------------------- | :------------ | :---: |\n",
    "| Felipe Filgueira         | RM 335817     | `10A` |\n",
    "| Jefferson Kwak           | RM 336094     | `10A` |\n",
    "| Rodolfo Moreira          | RM 336524     | `10A` |\n",
    "\n",
    "Por ser um projeto guiado, fique atento quando houver as marcações **Implementação** indica que é necessário realizar alguma implementação em Python no bloco a seguir onde há a inscrição ```## IMPLEMENTAR``` e **Resposta** indica que é esperado uma resposta objetiva relacionado a algum questionamento. \n",
    "\n",
    "**Cada grupo pode utilizar nas respostas objetivas quaisquer itens necessários que enriqueçam seu ponto vista, como gráficos, fotos e, até mesmo, trechos de código-fonte.**\n",
    "\n",
    "Pode-se utilizar quantos blocos forem necessários para realizar determinadas implementações ou utilizá-las para justificar as respostas. Não é obrigatório utilizar somente o bloco indicado.\n",
    "\n",
    "Ao final não se esqueça de subir os arquivos do projeto nas contas do GitHub de cada membro, ou subir na do representante do grupo e os membros realizarem o fork do projeto.\n",
    "\n",
    "A avaliação terá mais ênfase nos seguintes tópicos de desenvolvimento do projeto:\n",
    " \n",
    "1. __Modelo de identificação de idades__\n",
    "2. __Modelo de identificação de gênero__\n",
    "3. __Extração de faces (região de interesse)__\n",
    "4. __Análise de vídeo e extração de objetos__\n",
    "5. __Conclusões Finais__\n",
    "\n",
    "Para cada item haverá uma métrica de sucesso a ser perseguida e recomendações de como atingi-la. De todo modo os grupos terão liberdade para propor abordagem _ligeiramente_ diferentes para atinger as mesmas métricas. Apenas fica vetado o uso de APIs baseadas em cloud."
   ]
  },
  {
   "cell_type": "markdown",
   "metadata": {},
   "source": [
    "> **Dúvidas**: clique [aqui](https://github.com/michelpf/fiap-ml-visao-computacional-capstone/issues/new) para perguntar e abrir uma _issue_."
   ]
  },
  {
   "cell_type": "markdown",
   "metadata": {},
   "source": [
    "Requisitos mínimos para execução deste projeto:\n",
    "\n",
    "* Keras\n",
    "* Scikit-learn\n",
    "* Seaborn\n",
    "* DLib\n",
    "* OpenCv\n",
    "* Pandas\n",
    "* Numpy\n",
    "\n",
    "Para verificar se possui os pacotes obrigatórios execute os comandos abaixo de importação."
   ]
  },
  {
   "cell_type": "code",
   "execution_count": 3,
   "metadata": {},
   "outputs": [
    {
     "name": "stdout",
     "output_type": "stream",
     "text": [
      "Collecting dlib\n",
      "  Using cached https://files.pythonhosted.org/packages/63/92/05c3b98636661cb80d190a5a777dd94effcc14c0f6893222e5ca81e74fbc/dlib-19.19.0.tar.gz\n",
      "Building wheels for collected packages: dlib\n",
      "  Building wheel for dlib (setup.py) ... \u001b[?25l|^C\n",
      "\u001b[?25canceled\n"
     ]
    }
   ],
   "source": [
    "#!pip install dlib"
   ]
  },
  {
   "cell_type": "code",
   "execution_count": 1,
   "metadata": {},
   "outputs": [
    {
     "name": "stderr",
     "output_type": "stream",
     "text": [
      "Using TensorFlow backend.\n",
      "/opt/anaconda3/lib/python3.7/site-packages/tensorflow/python/framework/dtypes.py:526: FutureWarning: Passing (type, 1) or '1type' as a synonym of type is deprecated; in a future version of numpy, it will be understood as (type, (1,)) / '(1,)type'.\n",
      "  _np_qint8 = np.dtype([(\"qint8\", np.int8, 1)])\n",
      "/opt/anaconda3/lib/python3.7/site-packages/tensorflow/python/framework/dtypes.py:527: FutureWarning: Passing (type, 1) or '1type' as a synonym of type is deprecated; in a future version of numpy, it will be understood as (type, (1,)) / '(1,)type'.\n",
      "  _np_quint8 = np.dtype([(\"quint8\", np.uint8, 1)])\n",
      "/opt/anaconda3/lib/python3.7/site-packages/tensorflow/python/framework/dtypes.py:528: FutureWarning: Passing (type, 1) or '1type' as a synonym of type is deprecated; in a future version of numpy, it will be understood as (type, (1,)) / '(1,)type'.\n",
      "  _np_qint16 = np.dtype([(\"qint16\", np.int16, 1)])\n",
      "/opt/anaconda3/lib/python3.7/site-packages/tensorflow/python/framework/dtypes.py:529: FutureWarning: Passing (type, 1) or '1type' as a synonym of type is deprecated; in a future version of numpy, it will be understood as (type, (1,)) / '(1,)type'.\n",
      "  _np_quint16 = np.dtype([(\"quint16\", np.uint16, 1)])\n",
      "/opt/anaconda3/lib/python3.7/site-packages/tensorflow/python/framework/dtypes.py:530: FutureWarning: Passing (type, 1) or '1type' as a synonym of type is deprecated; in a future version of numpy, it will be understood as (type, (1,)) / '(1,)type'.\n",
      "  _np_qint32 = np.dtype([(\"qint32\", np.int32, 1)])\n",
      "/opt/anaconda3/lib/python3.7/site-packages/tensorflow/python/framework/dtypes.py:535: FutureWarning: Passing (type, 1) or '1type' as a synonym of type is deprecated; in a future version of numpy, it will be understood as (type, (1,)) / '(1,)type'.\n",
      "  np_resource = np.dtype([(\"resource\", np.ubyte, 1)])\n"
     ]
    }
   ],
   "source": [
    "import numpy as np\n",
    "import matplotlib.image as mpimg\n",
    "import matplotlib.pyplot as plt\n",
    "import seaborn as sns\n",
    "import cv2\n",
    "\n",
    "#Exibição na mesma tela do Jupyter\n",
    "%matplotlib inline\n",
    "\n",
    "from os import listdir\n",
    "from os.path import isfile, join\n",
    "\n",
    "import pandas as pd\n",
    "import dlib\n",
    "\n",
    "from keras.models import Sequential, load_model\n",
    "from keras.layers.core import Dense, Dropout, Activation\n",
    "import keras\n",
    "from keras.models import Sequential, Model\n",
    "from keras.layers import Dense, Conv2D, Dropout, Flatten, MaxPooling2D, ZeroPadding2D, Convolution2D\n",
    "from keras.preprocessing import image\n",
    "\n",
    "from keras.preprocessing import image\n",
    "from keras.preprocessing.image import ImageDataGenerator\n",
    "\n",
    "import ast \n",
    "from sklearn.model_selection import train_test_split\n",
    "\n",
    "import os\n",
    "\n",
    "plt.style.use('seaborn')\n",
    "sns.set_style(\"whitegrid\", {'axes.grid' : False})"
   ]
  },
  {
   "cell_type": "markdown",
   "metadata": {},
   "source": [
    "** Importante ressaltar que precisamos do OpenCV >= 3.4.2.**\n",
    "\n",
    "Execute o comando a baixo para verificar. Se obter versão menor que 3.4.2, instale a versão correta e depois prossiga com o projeto."
   ]
  },
  {
   "cell_type": "code",
   "execution_count": 2,
   "metadata": {},
   "outputs": [
    {
     "name": "stdout",
     "output_type": "stream",
     "text": [
      "4.2.0\n"
     ]
    }
   ],
   "source": [
    "print(cv2.__version__)"
   ]
  },
  {
   "cell_type": "markdown",
   "metadata": {},
   "source": [
    "## 1. O problema\n",
    "\n",
    "Atualmente, com a tecnologia disponível e acessível, sobretudo na obtenção de imagens e vídeos e em seu processamento, permite apoiar com mais ênfase atividades de auditoria e investigação de forma automatizada, sem a necessidade de uma pessoa realizar tais análises e ainda com maior acurácia.\n",
    "\n",
    "O uso de tecnologias relacionadas a visão computacional pode contribuir para tornar mais eficiente investigações de pessoas e objetos baseadas em suas características e em seu perfil, além de tornar esta atividade mais rápida e completa.\n",
    "\n",
    "A proposta deste projeto é apoiar uma aplicação de auditoria e investigação para automatizar a busca por regiões de interesse (objetos e determinadas pessoas) com as seguintes finalidades:\n",
    "\n",
    "* Encontrar pessoas do gênero masculino com mais de 45 anos de idade\n",
    "* Encontrar pessoas do gênero femimino com menos de 45 anos de idade\n",
    "* Encontrar objetos relacionados a informática, como computadores e telefones\n",
    "\n",
    "Uma busca manual em vídeos de vigilância é bem onerosa e pode deixar passar evidências importantes em processos investigativos.\n",
    "\n",
    "Ainda assim, a análise humana é realizada em último caso para decidir, se dentre as evidências coletadas, quais devem seguir para investigação mais apurada e quais não. A tarefa humana é mais de validação do que exploração.\n",
    "\n",
    "Para alcançar este objetivo iremos construir uma aplicação capaz de analisar um vídeo específico de um escritórioo, baseado na série de TV [_The Office_](https://pt.wikipedia.org/wiki/The_Office). A partir dele e de modelos de classificação de imagens, iremos coletar e armazenar imagens das regiões de interesse citadas para posterior análise de investigações.\n",
    "\n",
    "Deste modo, conforme já apresentado, seguiremos com o seguinte roteiro:\n",
    "\n",
    "* Desenvolver e construir um classificador de idade\n",
    "* Desenvolver e construir um classificador de gênero\n",
    "* Eleger a melhor forma de segmentar uma imagem de face\n",
    "* Configurar um modelo de detecção de objetos\n",
    "* Analisar um vídeo e extrair as regiões de interesse\n",
    "\n",
    "Por fim, deverá se realizado uma conclusão deste estudo, apresentando como foi a realização deste processo, pontos de acerto, pontos de melhoria e como poderia ser feito para aperfeiçoar os resultados."
   ]
  },
  {
   "cell_type": "markdown",
   "metadata": {},
   "source": [
    "## 2. Construção de modelos em redes neurais profundas\n",
    "\n",
    "Nesta primeira parte, iremos construir um modelo baseado em redes neurais profundas (_deep learning_) capaz de identificar, a partir de uma imagem, qual é a idade da pessoa.\n",
    "\n",
    "Este tipo de classificador requer um mapeamento mais profundo de cada imagem além de ser necessário um número considerável de imagens para cada idade ou faixa de idade.\n",
    "\n",
    "Devido a necessidade de um número alto de imagens, vamos utilizar o dataset [IMDB-WIKI – 500k+ face images with age and gender labels](https://data.vision.ee.ethz.ch/cvl/rrothe/imdb-wiki) que foi utilizado no desafio _DEX: Deep EXpectation of apparent age from a single image_.\n",
    "\n",
    "Também foi utilizado dois excelentes artigos de Sefik Ilkin Serengil, que podem ser acessados [aqui](https://sefiks.com/2019/02/13/apparent-age-and-gender-prediction-in-keras) e [aqui](https://sefiks.com/2018/08/06/deep-face-recognition-with-keras). Esses artigos demonstram a aplicação do VGGFace para as tarefas de reconhecimento de idade e gênero. Artigos que foram ligeiramente adaptados e utilizados para o desafio.\n",
    "\n",
    "As imagens estão disponíveis na pasta ```imagens```.\n",
    "\n",
    "O arquivo ```age-faces-dataset.csv```, na pasta ```csv``` possui a relação de cada sujeito, contendo sua idade, localização da face, idade e referência da imagem, gênero, dentre outros campos. Com esta referência é possível associar determinado sujeito com sua face.\n",
    "\n",
    "No conjunto de dados, a representação do gênero masculino é codificada com o valor *1* e o gênero feminino com o valor *0*."
   ]
  },
  {
   "cell_type": "markdown",
   "metadata": {},
   "source": [
    "Abra o conjunto de dados utilizando o _Pandas_. Utilize o método ```read_csv```."
   ]
  },
  {
   "cell_type": "code",
   "execution_count": 3,
   "metadata": {},
   "outputs": [],
   "source": [
    "# IMPLEMENTAR\n",
    "df = pd.read_csv('csv/age-faces-dataset.csv')"
   ]
  },
  {
   "cell_type": "markdown",
   "metadata": {},
   "source": [
    "Execute o comando abaixo para apresentação de uma amostra do conjunto de dados."
   ]
  },
  {
   "cell_type": "code",
   "execution_count": 4,
   "metadata": {},
   "outputs": [
    {
     "data": {
      "text/html": [
       "<div>\n",
       "<style scoped>\n",
       "    .dataframe tbody tr th:only-of-type {\n",
       "        vertical-align: middle;\n",
       "    }\n",
       "\n",
       "    .dataframe tbody tr th {\n",
       "        vertical-align: top;\n",
       "    }\n",
       "\n",
       "    .dataframe thead th {\n",
       "        text-align: right;\n",
       "    }\n",
       "</style>\n",
       "<table border=\"1\" class=\"dataframe\">\n",
       "  <thead>\n",
       "    <tr style=\"text-align: right;\">\n",
       "      <th></th>\n",
       "      <th>Unnamed: 0</th>\n",
       "      <th>dob</th>\n",
       "      <th>photo_taken</th>\n",
       "      <th>full_path</th>\n",
       "      <th>gender</th>\n",
       "      <th>name</th>\n",
       "      <th>face_location</th>\n",
       "      <th>face_score</th>\n",
       "      <th>second_face_score</th>\n",
       "      <th>date_of_birth</th>\n",
       "      <th>age</th>\n",
       "    </tr>\n",
       "  </thead>\n",
       "  <tbody>\n",
       "    <tr>\n",
       "      <td>0</td>\n",
       "      <td>0</td>\n",
       "      <td>723671</td>\n",
       "      <td>2009</td>\n",
       "      <td>['17/10000217_1981-05-05_2009.jpg']</td>\n",
       "      <td>1.0</td>\n",
       "      <td>['Sami Jauhojärvi']</td>\n",
       "      <td>[[111.29109473 111.29109473 252.66993082 252.6...</td>\n",
       "      <td>4.300962</td>\n",
       "      <td>NaN</td>\n",
       "      <td>1981</td>\n",
       "      <td>28</td>\n",
       "    </tr>\n",
       "    <tr>\n",
       "      <td>1</td>\n",
       "      <td>2</td>\n",
       "      <td>711677</td>\n",
       "      <td>2008</td>\n",
       "      <td>['12/100012_1948-07-03_2008.jpg']</td>\n",
       "      <td>1.0</td>\n",
       "      <td>['Marc Okrand']</td>\n",
       "      <td>[[113.52 169.84 366.08 422.4 ]]</td>\n",
       "      <td>4.329329</td>\n",
       "      <td>NaN</td>\n",
       "      <td>1948</td>\n",
       "      <td>60</td>\n",
       "    </tr>\n",
       "    <tr>\n",
       "      <td>2</td>\n",
       "      <td>4</td>\n",
       "      <td>720044</td>\n",
       "      <td>2012</td>\n",
       "      <td>['16/10002116_1971-05-31_2012.jpg']</td>\n",
       "      <td>0.0</td>\n",
       "      <td>['Diana Damrau']</td>\n",
       "      <td>[[171.61031405  75.5745124  266.76611571 170.7...</td>\n",
       "      <td>3.408442</td>\n",
       "      <td>NaN</td>\n",
       "      <td>1971</td>\n",
       "      <td>41</td>\n",
       "    </tr>\n",
       "    <tr>\n",
       "      <td>3</td>\n",
       "      <td>5</td>\n",
       "      <td>716189</td>\n",
       "      <td>2012</td>\n",
       "      <td>['02/10002702_1960-11-09_2012.jpg']</td>\n",
       "      <td>0.0</td>\n",
       "      <td>['Krista Tippett']</td>\n",
       "      <td>[[274.7656324   57.77009008 376.88699455 159.8...</td>\n",
       "      <td>4.748056</td>\n",
       "      <td>NaN</td>\n",
       "      <td>1960</td>\n",
       "      <td>52</td>\n",
       "    </tr>\n",
       "    <tr>\n",
       "      <td>4</td>\n",
       "      <td>6</td>\n",
       "      <td>707745</td>\n",
       "      <td>1971</td>\n",
       "      <td>['41/10003541_1937-09-27_1971.jpg']</td>\n",
       "      <td>1.0</td>\n",
       "      <td>['Bernie Whitebear']</td>\n",
       "      <td>[[ 79.35580189  26.65993396 197.60950472 144.9...</td>\n",
       "      <td>4.184828</td>\n",
       "      <td>NaN</td>\n",
       "      <td>1937</td>\n",
       "      <td>34</td>\n",
       "    </tr>\n",
       "  </tbody>\n",
       "</table>\n",
       "</div>"
      ],
      "text/plain": [
       "   Unnamed: 0     dob  photo_taken                            full_path  \\\n",
       "0           0  723671         2009  ['17/10000217_1981-05-05_2009.jpg']   \n",
       "1           2  711677         2008    ['12/100012_1948-07-03_2008.jpg']   \n",
       "2           4  720044         2012  ['16/10002116_1971-05-31_2012.jpg']   \n",
       "3           5  716189         2012  ['02/10002702_1960-11-09_2012.jpg']   \n",
       "4           6  707745         1971  ['41/10003541_1937-09-27_1971.jpg']   \n",
       "\n",
       "   gender                  name  \\\n",
       "0     1.0   ['Sami Jauhojärvi']   \n",
       "1     1.0       ['Marc Okrand']   \n",
       "2     0.0      ['Diana Damrau']   \n",
       "3     0.0    ['Krista Tippett']   \n",
       "4     1.0  ['Bernie Whitebear']   \n",
       "\n",
       "                                       face_location  face_score  \\\n",
       "0  [[111.29109473 111.29109473 252.66993082 252.6...    4.300962   \n",
       "1                    [[113.52 169.84 366.08 422.4 ]]    4.329329   \n",
       "2  [[171.61031405  75.5745124  266.76611571 170.7...    3.408442   \n",
       "3  [[274.7656324   57.77009008 376.88699455 159.8...    4.748056   \n",
       "4  [[ 79.35580189  26.65993396 197.60950472 144.9...    4.184828   \n",
       "\n",
       "   second_face_score  date_of_birth  age  \n",
       "0                NaN           1981   28  \n",
       "1                NaN           1948   60  \n",
       "2                NaN           1971   41  \n",
       "3                NaN           1960   52  \n",
       "4                NaN           1937   34  "
      ]
     },
     "execution_count": 4,
     "metadata": {},
     "output_type": "execute_result"
    }
   ],
   "source": [
    "df.head()"
   ]
  },
  {
   "cell_type": "markdown",
   "metadata": {},
   "source": [
    "### 2.1 Modelo de predição de idade\n",
    "\n",
    "Antes de começarmos, avalie o conjunto de dados _Pandas_ e verifique se existe alguma otimização.\n",
    "Sugerimos verificar e filtrar somente sujeitos com idade maior do que 0 e menor do que 100.\n",
    "\n",
    "Analise o histograma e investigue com filtros do _Pandas_ para avaliar se existe necessidade de realização de algum _data cleasing_ no dataset, de acordo com a sugestão pedida.\n",
    "\n",
    "Havendo necessidade de _data cleasing_ realize os devidos ajustes."
   ]
  },
  {
   "cell_type": "markdown",
   "metadata": {},
   "source": [
    "Vamos investigar a distribuição de idades pelo histograma.\n",
    "Execute o comando abaixo."
   ]
  },
  {
   "cell_type": "code",
   "execution_count": 5,
   "metadata": {},
   "outputs": [
    {
     "data": {
      "image/png": "[encoded data removed]",
      "text/plain": [
       "<Figure size 432x288 with 1 Axes>"
      ]
     },
     "metadata": {
      "needs_background": "light"
     },
     "output_type": "display_data"
    }
   ],
   "source": [
    "histograma_idade = df['age'].hist(bins=df['age'].nunique())"
   ]
  },
  {
   "cell_type": "markdown",
   "metadata": {},
   "source": [
    "De acordo com os dados de idade, vamos buscar a existência de idades inválidas.\n",
    "A começar com idades menores do que 0."
   ]
  },
  {
   "cell_type": "code",
   "execution_count": 6,
   "metadata": {},
   "outputs": [
    {
     "data": {
      "text/html": [
       "<div>\n",
       "<style scoped>\n",
       "    .dataframe tbody tr th:only-of-type {\n",
       "        vertical-align: middle;\n",
       "    }\n",
       "\n",
       "    .dataframe tbody tr th {\n",
       "        vertical-align: top;\n",
       "    }\n",
       "\n",
       "    .dataframe thead th {\n",
       "        text-align: right;\n",
       "    }\n",
       "</style>\n",
       "<table border=\"1\" class=\"dataframe\">\n",
       "  <thead>\n",
       "    <tr style=\"text-align: right;\">\n",
       "      <th></th>\n",
       "      <th>Unnamed: 0</th>\n",
       "      <th>dob</th>\n",
       "      <th>photo_taken</th>\n",
       "      <th>full_path</th>\n",
       "      <th>gender</th>\n",
       "      <th>name</th>\n",
       "      <th>face_location</th>\n",
       "      <th>face_score</th>\n",
       "      <th>second_face_score</th>\n",
       "      <th>date_of_birth</th>\n",
       "      <th>age</th>\n",
       "    </tr>\n",
       "  </thead>\n",
       "  <tbody>\n",
       "    <tr>\n",
       "      <td>16538</td>\n",
       "      <td>46820</td>\n",
       "      <td>715674</td>\n",
       "      <td>1952</td>\n",
       "      <td>['78/1479178_1959-06-13_1952.jpg']</td>\n",
       "      <td>0.0</td>\n",
       "      <td>['Mairead McGuinness']</td>\n",
       "      <td>[[101.25678948  39.52919591 151.51318422  89.7...</td>\n",
       "      <td>3.268928</td>\n",
       "      <td>NaN</td>\n",
       "      <td>1959</td>\n",
       "      <td>-7</td>\n",
       "    </tr>\n",
       "  </tbody>\n",
       "</table>\n",
       "</div>"
      ],
      "text/plain": [
       "       Unnamed: 0     dob  photo_taken                           full_path  \\\n",
       "16538       46820  715674         1952  ['78/1479178_1959-06-13_1952.jpg']   \n",
       "\n",
       "       gender                    name  \\\n",
       "16538     0.0  ['Mairead McGuinness']   \n",
       "\n",
       "                                           face_location  face_score  \\\n",
       "16538  [[101.25678948  39.52919591 151.51318422  89.7...    3.268928   \n",
       "\n",
       "       second_face_score  date_of_birth  age  \n",
       "16538                NaN           1959   -7  "
      ]
     },
     "execution_count": 6,
     "metadata": {},
     "output_type": "execute_result"
    }
   ],
   "source": [
    "df[df['age'] < 0]"
   ]
  },
  {
   "cell_type": "markdown",
   "metadata": {},
   "source": [
    "Agora idades maiores do que 100."
   ]
  },
  {
   "cell_type": "code",
   "execution_count": 7,
   "metadata": {},
   "outputs": [
    {
     "data": {
      "text/html": [
       "<div>\n",
       "<style scoped>\n",
       "    .dataframe tbody tr th:only-of-type {\n",
       "        vertical-align: middle;\n",
       "    }\n",
       "\n",
       "    .dataframe tbody tr th {\n",
       "        vertical-align: top;\n",
       "    }\n",
       "\n",
       "    .dataframe thead th {\n",
       "        text-align: right;\n",
       "    }\n",
       "</style>\n",
       "<table border=\"1\" class=\"dataframe\">\n",
       "  <thead>\n",
       "    <tr style=\"text-align: right;\">\n",
       "      <th></th>\n",
       "      <th>Unnamed: 0</th>\n",
       "      <th>dob</th>\n",
       "      <th>photo_taken</th>\n",
       "      <th>full_path</th>\n",
       "      <th>gender</th>\n",
       "      <th>name</th>\n",
       "      <th>face_location</th>\n",
       "      <th>face_score</th>\n",
       "      <th>second_face_score</th>\n",
       "      <th>date_of_birth</th>\n",
       "      <th>age</th>\n",
       "    </tr>\n",
       "  </thead>\n",
       "  <tbody>\n",
       "    <tr>\n",
       "      <td>305</td>\n",
       "      <td>917</td>\n",
       "      <td>677949</td>\n",
       "      <td>1960</td>\n",
       "      <td>['31/21048131_1856-02-28_1960.jpg']</td>\n",
       "      <td>1.0</td>\n",
       "      <td>['Joachim, 5th Prince Murat']</td>\n",
       "      <td>[[166.87627388  98.96870729 233.90384046 165.9...</td>\n",
       "      <td>3.848311</td>\n",
       "      <td>NaN</td>\n",
       "      <td>1856</td>\n",
       "      <td>104</td>\n",
       "    </tr>\n",
       "    <tr>\n",
       "      <td>1658</td>\n",
       "      <td>4533</td>\n",
       "      <td>679576</td>\n",
       "      <td>1963</td>\n",
       "      <td>['10/6603110_1860-08-12_1963.jpg']</td>\n",
       "      <td>1.0</td>\n",
       "      <td>['Temple Lea Houston']</td>\n",
       "      <td>[[141.68  85.36 267.52 211.2 ]]</td>\n",
       "      <td>3.530178</td>\n",
       "      <td>NaN</td>\n",
       "      <td>1860</td>\n",
       "      <td>103</td>\n",
       "    </tr>\n",
       "    <tr>\n",
       "      <td>3282</td>\n",
       "      <td>9040</td>\n",
       "      <td>696641</td>\n",
       "      <td>2008</td>\n",
       "      <td>['15/24127215_1907-05-04_2008.jpg']</td>\n",
       "      <td>1.0</td>\n",
       "      <td>['Walter Walsh']</td>\n",
       "      <td>[[ 79.46726146  79.46726146 220.68833208 220.6...</td>\n",
       "      <td>3.446329</td>\n",
       "      <td>NaN</td>\n",
       "      <td>1907</td>\n",
       "      <td>101</td>\n",
       "    </tr>\n",
       "    <tr>\n",
       "      <td>7019</td>\n",
       "      <td>19680</td>\n",
       "      <td>636872</td>\n",
       "      <td>2012</td>\n",
       "      <td>['69/3139869_1743-09-11_2012.jpg']</td>\n",
       "      <td>0.0</td>\n",
       "      <td>['Sarah Franklin Bache']</td>\n",
       "      <td>[[156.80266094 123.37351931 256.29008583 222.8...</td>\n",
       "      <td>4.523645</td>\n",
       "      <td>NaN</td>\n",
       "      <td>1743</td>\n",
       "      <td>269</td>\n",
       "    </tr>\n",
       "    <tr>\n",
       "      <td>7124</td>\n",
       "      <td>19951</td>\n",
       "      <td>693780</td>\n",
       "      <td>2013</td>\n",
       "      <td>['50/913950_1899-07-03_2013.jpg']</td>\n",
       "      <td>1.0</td>\n",
       "      <td>['Ludwig Guttmann']</td>\n",
       "      <td>[[123.45351931  98.93881545 343.20585407 318.6...</td>\n",
       "      <td>4.481955</td>\n",
       "      <td>NaN</td>\n",
       "      <td>1899</td>\n",
       "      <td>114</td>\n",
       "    </tr>\n",
       "    <tr>\n",
       "      <td>7520</td>\n",
       "      <td>21139</td>\n",
       "      <td>694318</td>\n",
       "      <td>2011</td>\n",
       "      <td>['29/43349929_1900-12-23_2011.jpg']</td>\n",
       "      <td>0.0</td>\n",
       "      <td>['Merle Barwis']</td>\n",
       "      <td>[[ 56.92748431 141.09171078 308.60216371 392.7...</td>\n",
       "      <td>3.436324</td>\n",
       "      <td>NaN</td>\n",
       "      <td>1900</td>\n",
       "      <td>111</td>\n",
       "    </tr>\n",
       "    <tr>\n",
       "      <td>7607</td>\n",
       "      <td>21361</td>\n",
       "      <td>696659</td>\n",
       "      <td>2011</td>\n",
       "      <td>['17/14317_1907-05-22_2011.jpg']</td>\n",
       "      <td>1.0</td>\n",
       "      <td>['Hergé']</td>\n",
       "      <td>[[ 65.79  24.99 138.72  97.92]]</td>\n",
       "      <td>4.267502</td>\n",
       "      <td>NaN</td>\n",
       "      <td>1907</td>\n",
       "      <td>104</td>\n",
       "    </tr>\n",
       "    <tr>\n",
       "      <td>7894</td>\n",
       "      <td>22151</td>\n",
       "      <td>642953</td>\n",
       "      <td>1945</td>\n",
       "      <td>['68/25377668_1760-05-05_1945.jpg']</td>\n",
       "      <td>0.0</td>\n",
       "      <td>['Sophie Charlotte Elisabeth Ursinus']</td>\n",
       "      <td>[[155.76  99.44 281.6  225.28]]</td>\n",
       "      <td>3.199015</td>\n",
       "      <td>NaN</td>\n",
       "      <td>1760</td>\n",
       "      <td>185</td>\n",
       "    </tr>\n",
       "    <tr>\n",
       "      <td>11725</td>\n",
       "      <td>32956</td>\n",
       "      <td>688477</td>\n",
       "      <td>2004</td>\n",
       "      <td>['03/225603_1884-12-25_2004.jpg']</td>\n",
       "      <td>0.0</td>\n",
       "      <td>['Evelyn Nesbit']</td>\n",
       "      <td>[[141.68  57.2  267.52 183.04]]</td>\n",
       "      <td>3.485172</td>\n",
       "      <td>NaN</td>\n",
       "      <td>1884</td>\n",
       "      <td>120</td>\n",
       "    </tr>\n",
       "    <tr>\n",
       "      <td>13955</td>\n",
       "      <td>39420</td>\n",
       "      <td>693822</td>\n",
       "      <td>2009</td>\n",
       "      <td>['75/32659275_1899-08-14_2009.jpg']</td>\n",
       "      <td>0.0</td>\n",
       "      <td>['Evelyn Kozak']</td>\n",
       "      <td>[[160.65966942 102.45615327 225.5386251  167.3...</td>\n",
       "      <td>3.562741</td>\n",
       "      <td>NaN</td>\n",
       "      <td>1899</td>\n",
       "      <td>110</td>\n",
       "    </tr>\n",
       "    <tr>\n",
       "      <td>16220</td>\n",
       "      <td>45990</td>\n",
       "      <td>692787</td>\n",
       "      <td>2007</td>\n",
       "      <td>['90/9271090_1896-10-13_2007.jpg']</td>\n",
       "      <td>0.0</td>\n",
       "      <td>['List of supercentenarians from the United St...</td>\n",
       "      <td>[[122.78805179  68.48225099 183.28207768 128.9...</td>\n",
       "      <td>3.104757</td>\n",
       "      <td>NaN</td>\n",
       "      <td>1896</td>\n",
       "      <td>111</td>\n",
       "    </tr>\n",
       "    <tr>\n",
       "      <td>18464</td>\n",
       "      <td>52282</td>\n",
       "      <td>689607</td>\n",
       "      <td>1990</td>\n",
       "      <td>['06/42881906_1888-01-29_1990.jpg']</td>\n",
       "      <td>1.0</td>\n",
       "      <td>['Esau Khamati Oriedo']</td>\n",
       "      <td>[[105.97683617  79.70262713 341.56471754 315.2...</td>\n",
       "      <td>3.226602</td>\n",
       "      <td>NaN</td>\n",
       "      <td>1888</td>\n",
       "      <td>102</td>\n",
       "    </tr>\n",
       "    <tr>\n",
       "      <td>21478</td>\n",
       "      <td>60480</td>\n",
       "      <td>694718</td>\n",
       "      <td>2004</td>\n",
       "      <td>['95/36922695_1902-01-27_2004.jpg']</td>\n",
       "      <td>1.0</td>\n",
       "      <td>['Carl Berner']</td>\n",
       "      <td>[[296.89992692  59.84078538 385.221105   148.1...</td>\n",
       "      <td>3.751132</td>\n",
       "      <td>NaN</td>\n",
       "      <td>1902</td>\n",
       "      <td>102</td>\n",
       "    </tr>\n",
       "    <tr>\n",
       "      <td>21951</td>\n",
       "      <td>61818</td>\n",
       "      <td>658516</td>\n",
       "      <td>2012</td>\n",
       "      <td>['12/98912_1802-12-15_2012.jpg']</td>\n",
       "      <td>1.0</td>\n",
       "      <td>['János Bolyai']</td>\n",
       "      <td>[[ 37.0038672  145.61546879 362.03867197 470.6...</td>\n",
       "      <td>4.042361</td>\n",
       "      <td>NaN</td>\n",
       "      <td>1802</td>\n",
       "      <td>210</td>\n",
       "    </tr>\n",
       "  </tbody>\n",
       "</table>\n",
       "</div>"
      ],
      "text/plain": [
       "       Unnamed: 0     dob  photo_taken                            full_path  \\\n",
       "305           917  677949         1960  ['31/21048131_1856-02-28_1960.jpg']   \n",
       "1658         4533  679576         1963   ['10/6603110_1860-08-12_1963.jpg']   \n",
       "3282         9040  696641         2008  ['15/24127215_1907-05-04_2008.jpg']   \n",
       "7019        19680  636872         2012   ['69/3139869_1743-09-11_2012.jpg']   \n",
       "7124        19951  693780         2013    ['50/913950_1899-07-03_2013.jpg']   \n",
       "7520        21139  694318         2011  ['29/43349929_1900-12-23_2011.jpg']   \n",
       "7607        21361  696659         2011     ['17/14317_1907-05-22_2011.jpg']   \n",
       "7894        22151  642953         1945  ['68/25377668_1760-05-05_1945.jpg']   \n",
       "11725       32956  688477         2004    ['03/225603_1884-12-25_2004.jpg']   \n",
       "13955       39420  693822         2009  ['75/32659275_1899-08-14_2009.jpg']   \n",
       "16220       45990  692787         2007   ['90/9271090_1896-10-13_2007.jpg']   \n",
       "18464       52282  689607         1990  ['06/42881906_1888-01-29_1990.jpg']   \n",
       "21478       60480  694718         2004  ['95/36922695_1902-01-27_2004.jpg']   \n",
       "21951       61818  658516         2012     ['12/98912_1802-12-15_2012.jpg']   \n",
       "\n",
       "       gender                                               name  \\\n",
       "305       1.0                      ['Joachim, 5th Prince Murat']   \n",
       "1658      1.0                             ['Temple Lea Houston']   \n",
       "3282      1.0                                   ['Walter Walsh']   \n",
       "7019      0.0                           ['Sarah Franklin Bache']   \n",
       "7124      1.0                                ['Ludwig Guttmann']   \n",
       "7520      0.0                                   ['Merle Barwis']   \n",
       "7607      1.0                                          ['Hergé']   \n",
       "7894      0.0             ['Sophie Charlotte Elisabeth Ursinus']   \n",
       "11725     0.0                                  ['Evelyn Nesbit']   \n",
       "13955     0.0                                   ['Evelyn Kozak']   \n",
       "16220     0.0  ['List of supercentenarians from the United St...   \n",
       "18464     1.0                            ['Esau Khamati Oriedo']   \n",
       "21478     1.0                                    ['Carl Berner']   \n",
       "21951     1.0                                   ['János Bolyai']   \n",
       "\n",
       "                                           face_location  face_score  \\\n",
       "305    [[166.87627388  98.96870729 233.90384046 165.9...    3.848311   \n",
       "1658                     [[141.68  85.36 267.52 211.2 ]]    3.530178   \n",
       "3282   [[ 79.46726146  79.46726146 220.68833208 220.6...    3.446329   \n",
       "7019   [[156.80266094 123.37351931 256.29008583 222.8...    4.523645   \n",
       "7124   [[123.45351931  98.93881545 343.20585407 318.6...    4.481955   \n",
       "7520   [[ 56.92748431 141.09171078 308.60216371 392.7...    3.436324   \n",
       "7607                     [[ 65.79  24.99 138.72  97.92]]    4.267502   \n",
       "7894                     [[155.76  99.44 281.6  225.28]]    3.199015   \n",
       "11725                    [[141.68  57.2  267.52 183.04]]    3.485172   \n",
       "13955  [[160.65966942 102.45615327 225.5386251  167.3...    3.562741   \n",
       "16220  [[122.78805179  68.48225099 183.28207768 128.9...    3.104757   \n",
       "18464  [[105.97683617  79.70262713 341.56471754 315.2...    3.226602   \n",
       "21478  [[296.89992692  59.84078538 385.221105   148.1...    3.751132   \n",
       "21951  [[ 37.0038672  145.61546879 362.03867197 470.6...    4.042361   \n",
       "\n",
       "       second_face_score  date_of_birth  age  \n",
       "305                  NaN           1856  104  \n",
       "1658                 NaN           1860  103  \n",
       "3282                 NaN           1907  101  \n",
       "7019                 NaN           1743  269  \n",
       "7124                 NaN           1899  114  \n",
       "7520                 NaN           1900  111  \n",
       "7607                 NaN           1907  104  \n",
       "7894                 NaN           1760  185  \n",
       "11725                NaN           1884  120  \n",
       "13955                NaN           1899  110  \n",
       "16220                NaN           1896  111  \n",
       "18464                NaN           1888  102  \n",
       "21478                NaN           1902  102  \n",
       "21951                NaN           1802  210  "
      ]
     },
     "execution_count": 7,
     "metadata": {},
     "output_type": "execute_result"
    }
   ],
   "source": [
    "df[df['age'] > 100]"
   ]
  },
  {
   "cell_type": "markdown",
   "metadata": {},
   "source": [
    "Diante dos dados apresentados, realize a limpeza dos registros com idades inválidas ou de não interesse do projeto.\n",
    "Para realizar a limpeza utilize da seguinte forma:\n",
    "\n",
    "```python\n",
    "df = df[df['age'] <= idade_limite_superior]\n",
    "df = df[df['age'] > idade_limite_inferior]\n",
    "```"
   ]
  },
  {
   "cell_type": "markdown",
   "metadata": {},
   "source": [
    "Agora implemente a limpeza dos dados."
   ]
  },
  {
   "cell_type": "code",
   "execution_count": 8,
   "metadata": {},
   "outputs": [],
   "source": [
    "idade_limite_superior = 100\n",
    "idade_limite_inferior = 0\n",
    "\n",
    "df = df[df['age'] <= idade_limite_superior]\n",
    "df = df[df['age'] > idade_limite_inferior]"
   ]
  },
  {
   "cell_type": "markdown",
   "metadata": {},
   "source": [
    "Vamos executar novamente os comandos abaixo para ter certeza que os dados foram limpos."
   ]
  },
  {
   "cell_type": "code",
   "execution_count": 9,
   "metadata": {},
   "outputs": [
    {
     "data": {
      "text/plain": [
       "(0, 0)"
      ]
     },
     "execution_count": 9,
     "metadata": {},
     "output_type": "execute_result"
    }
   ],
   "source": [
    "len(df[df['age'] > 100]), len(df[df['age'] < 0])"
   ]
  },
  {
   "cell_type": "markdown",
   "metadata": {},
   "source": [
    "Se o resultado obtido foi 0 para ambos os filtros (exemplo (0,0)) signfica que estamos prontos para avançar."
   ]
  },
  {
   "cell_type": "markdown",
   "metadata": {},
   "source": [
    "### 2.2 Transfer learning\n",
    "\n",
    "A técnica de _transfer learning_ é particularmente útil ao combinar modelos já validados em aplicações mais robustas, resultado de competições de grande porte.\n",
    "\n",
    "Um benchmark nesse campo aplicado a faces é o [VGGFace](http://www.robots.ox.ac.uk/~vgg/data/vgg_face) do grupo *VGG*, o Visual Geometry Group da Univerdade de Oxford.\n",
    "\n",
    "A arquitetura proposta pelo VGGFace é capaz de classificar faces com precisão acima de 90% em alguns trabalhos, como por exemplo [Zhang, Lingfeng & Kakadiaris, Ioannis. (2017). Local classifier chains for deep face recognition. 158-167](https://www.researchgate.net/publication/322872468_Local_classifier_chains_for_deep_face_recognition).\n",
    "\n",
    "Este modelo tem a seguinte arquitetura.\n",
    "\n",
    "<p align=\"center\">\n",
    "<img src=\"imagens-aux/vgg-face-architecture.jpg\">\n",
    "</p>\n",
    "\n",
    "Observando a primeira camada, precisamos portanto padronizar as imagens de treinamento no tamanho 224 x 224 (comprimento x largura).\n",
    "\n",
    "Os grupos que decidirem criar modelos alternativos devem explicar qual arquitetura utiliza e seus motivadores."
   ]
  },
  {
   "cell_type": "markdown",
   "metadata": {},
   "source": [
    "### 2.3 Padronização de imagens\n",
    "\n",
    "O algoritmo abaixo normaliza as imagens para o tamanho de entrada do modelo VGGFace e também converte o valor em intenside de pixel de 0 a 255 para 0 a 1, com valores em pontos flutuantes.\n",
    "\n",
    "Valores em ponto flutuante são melhores para se trabalhar com convergência de modelos durante os cálculos entre as camadas das redes neurais."
   ]
  },
  {
   "cell_type": "code",
   "execution_count": 10,
   "metadata": {},
   "outputs": [],
   "source": [
    "tamanho_imagem = (224, 224)\n",
    "faces = []\n",
    "\n",
    "for index, row in df.iterrows():\n",
    "    image_face = image.load_img(\"imagens/%s\" % ast.literal_eval(row[\"full_path\"])[0], grayscale=False, target_size=tamanho_imagem)\n",
    "    image_array = image.img_to_array(image_face).reshape(1, -1)[0]\n",
    "    image_array /= 255\n",
    "    faces.append(image_array)"
   ]
  },
  {
   "cell_type": "markdown",
   "metadata": {},
   "source": [
    "Verifique a quantidade de imagens de faces obtidas pelo conjunto de dados."
   ]
  },
  {
   "cell_type": "code",
   "execution_count": 11,
   "metadata": {},
   "outputs": [],
   "source": [
    "# IMPLEMENTAR\n",
    "qtd_faces = len(faces)"
   ]
  },
  {
   "cell_type": "code",
   "execution_count": 12,
   "metadata": {},
   "outputs": [
    {
     "name": "stdout",
     "output_type": "stream",
     "text": [
      "O total de faces de imagens é de 22138.\n"
     ]
    }
   ],
   "source": [
    "print(\"O total de faces de imagens é de \" + str(qtd_faces) + \".\")"
   ]
  },
  {
   "cell_type": "markdown",
   "metadata": {},
   "source": [
    "### 2.4 Definição do modelo\n",
    "\n",
    "O próximo passo é a definição do número de classes. Como a definição de classes é _zero based_ sempre defina adicionando 1 ao valor final.\n",
    "\n",
    "Exemplo, se o número de classes compreender entre idades maior do que 0 e menor ou igual a 100, teremos 100 classes, logo o número de classes de idade é 101."
   ]
  },
  {
   "cell_type": "code",
   "execution_count": 13,
   "metadata": {},
   "outputs": [],
   "source": [
    "# IMPLEMENTAR\n",
    "classes_idade = 101"
   ]
  },
  {
   "cell_type": "markdown",
   "metadata": {},
   "source": [
    "Uma forma de categorizarmos as classes é utilizando o modelo _one hot encode_. Onde será expressado em um array com todas as classes. A classe correspondente a um determindo registro será armazenado como o valor 1 naquela classe."
   ]
  },
  {
   "cell_type": "code",
   "execution_count": 14,
   "metadata": {},
   "outputs": [],
   "source": [
    "idades = df['age'].values\n",
    "idades_classes = keras.utils.to_categorical(idades, classes_idade)"
   ]
  },
  {
   "cell_type": "markdown",
   "metadata": {},
   "source": [
    "Faça um teste do _one hot encoding_. Exiba os dados do registro de índice zero do conjunto de dados."
   ]
  },
  {
   "cell_type": "code",
   "execution_count": 15,
   "metadata": {},
   "outputs": [
    {
     "data": {
      "text/plain": [
       "array([0., 0., 0., 0., 0., 0., 0., 0., 0., 0., 0., 0., 0., 0., 0., 0., 0.,\n",
       "       0., 0., 0., 0., 0., 0., 0., 0., 0., 0., 0., 1., 0., 0., 0., 0., 0.,\n",
       "       0., 0., 0., 0., 0., 0., 0., 0., 0., 0., 0., 0., 0., 0., 0., 0., 0.,\n",
       "       0., 0., 0., 0., 0., 0., 0., 0., 0., 0., 0., 0., 0., 0., 0., 0., 0.,\n",
       "       0., 0., 0., 0., 0., 0., 0., 0., 0., 0., 0., 0., 0., 0., 0., 0., 0.,\n",
       "       0., 0., 0., 0., 0., 0., 0., 0., 0., 0., 0., 0., 0., 0., 0., 0.],\n",
       "      dtype=float32)"
      ]
     },
     "execution_count": 15,
     "metadata": {},
     "output_type": "execute_result"
    }
   ],
   "source": [
    "idades_classes[0]"
   ]
  },
  {
   "cell_type": "markdown",
   "metadata": {},
   "source": [
    "Em seguida, vamos adaptar o _shape_ dos dados no padrão que o framework Keras utiliza."
   ]
  },
  {
   "cell_type": "code",
   "execution_count": 16,
   "metadata": {},
   "outputs": [],
   "source": [
    "features_imagem = []\n",
    " \n",
    "features_imagem = np.array(faces)\n",
    "features_imagem = features_imagem.reshape(features_imagem.shape[0], 224, 224, 3)"
   ]
  },
  {
   "cell_type": "markdown",
   "metadata": {},
   "source": [
    "### 2.5 Separação de dados de treinamento e validação\n",
    "\n",
    "Para que o modelo seja robusto, é importante validar um subconjunto de amostras que não participaram do treinamento inicial.\n",
    "\n",
    "Defina uma porcentagem, da base total, que deverá ser separa somente para a validação. Expresse o número na forma de número fracionário, por exemplo 40% equivale a 0.4."
   ]
  },
  {
   "cell_type": "code",
   "execution_count": 17,
   "metadata": {},
   "outputs": [],
   "source": [
    "# IMPLEMENTAR\n",
    "porcentagem_validacao = 0.4"
   ]
  },
  {
   "cell_type": "markdown",
   "metadata": {},
   "source": [
    "Execute o método ```train_test_split``` para realizar a divisão de cada tipo de amostra, sendo:\n",
    "* ```treinamento_x``` contém os _features_ de treinamento\n",
    "* ```teste_x``` contém os _features_ de validação (também é chamado de teste)\n",
    "* ```treinamento_y``` contém as classes de treinamento\n",
    "* ```teste_y``` contém as classes de validação"
   ]
  },
  {
   "cell_type": "code",
   "execution_count": 18,
   "metadata": {},
   "outputs": [],
   "source": [
    "treinamento_x, teste_x, treinamento_y, teste_y = train_test_split(features_imagem, \n",
    "                                                                  idades_classes, \n",
    "                                                                  test_size=porcentagem_validacao)"
   ]
  },
  {
   "cell_type": "markdown",
   "metadata": {},
   "source": [
    "### 2.6 Treinamento e validação\n",
    "\n",
    "O modelo VGGFace ainda não está por padrão na biblioteca Keras. Mesmo assim, como o artigo citado anteriormente possui a arquitetura definida, podemos implementá-la manualmente."
   ]
  },
  {
   "cell_type": "code",
   "execution_count": 19,
   "metadata": {},
   "outputs": [
    {
     "name": "stdout",
     "output_type": "stream",
     "text": [
      "WARNING:tensorflow:From /opt/anaconda3/lib/python3.7/site-packages/tensorflow/python/ops/resource_variable_ops.py:435: colocate_with (from tensorflow.python.framework.ops) is deprecated and will be removed in a future version.\n",
      "Instructions for updating:\n",
      "Colocations handled automatically by placer.\n"
     ]
    }
   ],
   "source": [
    "#VGG-Face model\n",
    "modelo = Sequential()\n",
    "modelo.add(ZeroPadding2D((1,1),input_shape=(224,224, 3)))\n",
    "modelo.add(Convolution2D(64, (3, 3), activation='relu'))\n",
    "modelo.add(ZeroPadding2D((1,1)))\n",
    "modelo.add(Convolution2D(64, (3, 3), activation='relu'))\n",
    "modelo.add(MaxPooling2D((2,2), strides=(2,2)))\n",
    " \n",
    "modelo.add(ZeroPadding2D((1,1)))\n",
    "modelo.add(Convolution2D(128, (3, 3), activation='relu'))\n",
    "modelo.add(ZeroPadding2D((1,1)))\n",
    "modelo.add(Convolution2D(128, (3, 3), activation='relu'))\n",
    "modelo.add(MaxPooling2D((2,2), strides=(2,2)))\n",
    " \n",
    "modelo.add(ZeroPadding2D((1,1)))\n",
    "modelo.add(Convolution2D(256, (3, 3), activation='relu'))\n",
    "modelo.add(ZeroPadding2D((1,1)))\n",
    "modelo.add(Convolution2D(256, (3, 3), activation='relu'))\n",
    "modelo.add(ZeroPadding2D((1,1)))\n",
    "modelo.add(Convolution2D(256, (3, 3), activation='relu'))\n",
    "modelo.add(MaxPooling2D((2,2), strides=(2,2)))\n",
    " \n",
    "modelo.add(ZeroPadding2D((1,1)))\n",
    "modelo.add(Convolution2D(512, (3, 3), activation='relu'))\n",
    "modelo.add(ZeroPadding2D((1,1)))\n",
    "modelo.add(Convolution2D(512, (3, 3), activation='relu'))\n",
    "modelo.add(ZeroPadding2D((1,1)))\n",
    "modelo.add(Convolution2D(512, (3, 3), activation='relu'))\n",
    "modelo.add(MaxPooling2D((2,2), strides=(2,2)))\n",
    " \n",
    "modelo.add(ZeroPadding2D((1,1)))\n",
    "modelo.add(Convolution2D(512, (3, 3), activation='relu'))\n",
    "modelo.add(ZeroPadding2D((1,1)))\n",
    "modelo.add(Convolution2D(512, (3, 3), activation='relu'))\n",
    "modelo.add(ZeroPadding2D((1,1)))\n",
    "modelo.add(Convolution2D(512, (3, 3), activation='relu'))\n",
    "modelo.add(MaxPooling2D((2,2), strides=(2,2)))\n",
    " \n",
    "modelo.add(Convolution2D(4096, (7, 7), activation='relu'))\n",
    "modelo.add(Dropout(0.5))\n",
    "modelo.add(Convolution2D(4096, (1, 1), activation='relu'))\n",
    "modelo.add(Dropout(0.5))\n",
    "modelo.add(Convolution2D(2622, (1, 1)))\n",
    "modelo.add(Flatten())\n",
    "modelo.add(Activation('softmax'))"
   ]
  },
  {
   "cell_type": "markdown",
   "metadata": {},
   "source": [
    "Os pesos já treinamentos podem ser baixados neste [link](https://drive.google.com/open?id=1xJY1mWULLOnK5GAGULcp_cgasVfy-e2j). Copie ele para a pasta ```pesos```.\n",
    "O arquivo de pesos é o mesmo utilizado neste [artigo](https://sefiks.com/2019/02/13/apparent-age-and-gender-prediction-in-keras)."
   ]
  },
  {
   "cell_type": "code",
   "execution_count": 20,
   "metadata": {},
   "outputs": [],
   "source": [
    "modelo.load_weights(\"pesos/vgg_face_weights.h5\")"
   ]
  },
  {
   "cell_type": "markdown",
   "metadata": {},
   "source": [
    "Assim como em qualquer modelo de _transfer learning_, precisamos adicionar na última camada as classes correspondentes. Deste modo, na saída da camada convulacional precisamos definir o número de classes. É o primeiro parâmetro do objeto ```Convolution2D```."
   ]
  },
  {
   "cell_type": "code",
   "execution_count": 21,
   "metadata": {},
   "outputs": [],
   "source": [
    "for layer in modelo.layers[:-7]:\n",
    "    layer.trainable = False\n",
    "\n",
    "saida_modelo = Sequential()\n",
    "\n",
    "# IMPLEMENTAR\n",
    "saida_modelo = Convolution2D(classes_idade, (1, 1), name='predictions')(modelo.layers[-4].output)\n",
    "\n",
    "saida_modelo = Flatten()(saida_modelo)\n",
    "saida_modelo = Activation('softmax')(saida_modelo)\n",
    "modelo_idade = Model(inputs=modelo.input, outputs=saida_modelo)"
   ]
  },
  {
   "cell_type": "markdown",
   "metadata": {},
   "source": [
    "Este tipo de treinamento possui muitas imagens. A etapa de treinamento pode demorar até mesmo mais do que 2 horas dependendo do tipo de computador utilizado.\n",
    "\n",
    "Apesar da demora, este desafio traz um desafio real de treinar um modelo de imagens com quantidade de exemplos adequado para as classificações requeridas.\n",
    "\n",
    "Sugiro que após o treinamento ser realizado, salvar os novos pesos e a rede para utilizar mais adiante nas inferências.\n",
    "\n",
    "Revise a arquitetura da rede com o comando a seguir."
   ]
  },
  {
   "cell_type": "code",
   "execution_count": 22,
   "metadata": {},
   "outputs": [
    {
     "name": "stdout",
     "output_type": "stream",
     "text": [
      "Model: \"model_1\"\n",
      "_________________________________________________________________\n",
      "Layer (type)                 Output Shape              Param #   \n",
      "=================================================================\n",
      "zero_padding2d_1_input (Inpu (None, 224, 224, 3)       0         \n",
      "_________________________________________________________________\n",
      "zero_padding2d_1 (ZeroPaddin (None, 226, 226, 3)       0         \n",
      "_________________________________________________________________\n",
      "conv2d_1 (Conv2D)            (None, 224, 224, 64)      1792      \n",
      "_________________________________________________________________\n",
      "zero_padding2d_2 (ZeroPaddin (None, 226, 226, 64)      0         \n",
      "_________________________________________________________________\n",
      "conv2d_2 (Conv2D)            (None, 224, 224, 64)      36928     \n",
      "_________________________________________________________________\n",
      "max_pooling2d_1 (MaxPooling2 (None, 112, 112, 64)      0         \n",
      "_________________________________________________________________\n",
      "zero_padding2d_3 (ZeroPaddin (None, 114, 114, 64)      0         \n",
      "_________________________________________________________________\n",
      "conv2d_3 (Conv2D)            (None, 112, 112, 128)     73856     \n",
      "_________________________________________________________________\n",
      "zero_padding2d_4 (ZeroPaddin (None, 114, 114, 128)     0         \n",
      "_________________________________________________________________\n",
      "conv2d_4 (Conv2D)            (None, 112, 112, 128)     147584    \n",
      "_________________________________________________________________\n",
      "max_pooling2d_2 (MaxPooling2 (None, 56, 56, 128)       0         \n",
      "_________________________________________________________________\n",
      "zero_padding2d_5 (ZeroPaddin (None, 58, 58, 128)       0         \n",
      "_________________________________________________________________\n",
      "conv2d_5 (Conv2D)            (None, 56, 56, 256)       295168    \n",
      "_________________________________________________________________\n",
      "zero_padding2d_6 (ZeroPaddin (None, 58, 58, 256)       0         \n",
      "_________________________________________________________________\n",
      "conv2d_6 (Conv2D)            (None, 56, 56, 256)       590080    \n",
      "_________________________________________________________________\n",
      "zero_padding2d_7 (ZeroPaddin (None, 58, 58, 256)       0         \n",
      "_________________________________________________________________\n",
      "conv2d_7 (Conv2D)            (None, 56, 56, 256)       590080    \n",
      "_________________________________________________________________\n",
      "max_pooling2d_3 (MaxPooling2 (None, 28, 28, 256)       0         \n",
      "_________________________________________________________________\n",
      "zero_padding2d_8 (ZeroPaddin (None, 30, 30, 256)       0         \n",
      "_________________________________________________________________\n",
      "conv2d_8 (Conv2D)            (None, 28, 28, 512)       1180160   \n",
      "_________________________________________________________________\n",
      "zero_padding2d_9 (ZeroPaddin (None, 30, 30, 512)       0         \n",
      "_________________________________________________________________\n",
      "conv2d_9 (Conv2D)            (None, 28, 28, 512)       2359808   \n",
      "_________________________________________________________________\n",
      "zero_padding2d_10 (ZeroPaddi (None, 30, 30, 512)       0         \n",
      "_________________________________________________________________\n",
      "conv2d_10 (Conv2D)           (None, 28, 28, 512)       2359808   \n",
      "_________________________________________________________________\n",
      "max_pooling2d_4 (MaxPooling2 (None, 14, 14, 512)       0         \n",
      "_________________________________________________________________\n",
      "zero_padding2d_11 (ZeroPaddi (None, 16, 16, 512)       0         \n",
      "_________________________________________________________________\n",
      "conv2d_11 (Conv2D)           (None, 14, 14, 512)       2359808   \n",
      "_________________________________________________________________\n",
      "zero_padding2d_12 (ZeroPaddi (None, 16, 16, 512)       0         \n",
      "_________________________________________________________________\n",
      "conv2d_12 (Conv2D)           (None, 14, 14, 512)       2359808   \n",
      "_________________________________________________________________\n",
      "zero_padding2d_13 (ZeroPaddi (None, 16, 16, 512)       0         \n",
      "_________________________________________________________________\n",
      "conv2d_13 (Conv2D)           (None, 14, 14, 512)       2359808   \n",
      "_________________________________________________________________\n",
      "max_pooling2d_5 (MaxPooling2 (None, 7, 7, 512)         0         \n",
      "_________________________________________________________________\n",
      "conv2d_14 (Conv2D)           (None, 1, 1, 4096)        102764544 \n",
      "_________________________________________________________________\n",
      "dropout_1 (Dropout)          (None, 1, 1, 4096)        0         \n",
      "_________________________________________________________________\n",
      "conv2d_15 (Conv2D)           (None, 1, 1, 4096)        16781312  \n",
      "_________________________________________________________________\n",
      "dropout_2 (Dropout)          (None, 1, 1, 4096)        0         \n",
      "_________________________________________________________________\n",
      "predictions (Conv2D)         (None, 1, 1, 101)         413797    \n",
      "_________________________________________________________________\n",
      "flatten_2 (Flatten)          (None, 101)               0         \n",
      "_________________________________________________________________\n",
      "activation_2 (Activation)    (None, 101)               0         \n",
      "=================================================================\n",
      "Total params: 134,674,341\n",
      "Trainable params: 119,959,653\n",
      "Non-trainable params: 14,714,688\n",
      "_________________________________________________________________\n"
     ]
    }
   ],
   "source": [
    "modelo_idade.summary()"
   ]
  },
  {
   "cell_type": "markdown",
   "metadata": {},
   "source": [
    "O número de *épocas* é responsável por quantas vezes o modelo percorrerá o ciclo de _foward_ e _back_ _propagation_.\n",
    "\n",
    "Como este modelo possui muitas imagens, sugerimos um valor mínimo de 2 épocas."
   ]
  },
  {
   "cell_type": "code",
   "execution_count": 23,
   "metadata": {},
   "outputs": [],
   "source": [
    "# IMPLEMENTAR\n",
    "numero_epocas = 2"
   ]
  },
  {
   "cell_type": "markdown",
   "metadata": {},
   "source": [
    "*Caso o modelo trave no treinamento, experimente diminuir o ```batch_size```.*"
   ]
  },
  {
   "cell_type": "code",
   "execution_count": 24,
   "metadata": {},
   "outputs": [
    {
     "name": "stdout",
     "output_type": "stream",
     "text": [
      "WARNING:tensorflow:From /opt/anaconda3/lib/python3.7/site-packages/tensorflow/python/ops/math_ops.py:3066: to_int32 (from tensorflow.python.ops.math_ops) is deprecated and will be removed in a future version.\n",
      "Instructions for updating:\n",
      "Use tf.cast instead.\n",
      "Train on 13282 samples, validate on 8856 samples\n",
      "Epoch 1/2\n",
      " 4800/13282 [=========>....................] - ETA: 3:35:38 - loss: 3.9075 - accuracy: 0.0450"
     ]
    },
    {
     "ename": "KeyboardInterrupt",
     "evalue": "",
     "output_type": "error",
     "traceback": [
      "\u001b[0;31m---------------------------------------------------------------------------\u001b[0m",
      "\u001b[0;31mKeyboardInterrupt\u001b[0m                         Traceback (most recent call last)",
      "\u001b[0;32m<ipython-input-24-fa9b9c62760c>\u001b[0m in \u001b[0;36m<module>\u001b[0;34m\u001b[0m\n\u001b[1;32m      1\u001b[0m \u001b[0mmodelo_idade\u001b[0m\u001b[0;34m.\u001b[0m\u001b[0mcompile\u001b[0m\u001b[0;34m(\u001b[0m\u001b[0moptimizer\u001b[0m\u001b[0;34m=\u001b[0m\u001b[0;34m'adam'\u001b[0m\u001b[0;34m,\u001b[0m \u001b[0mloss\u001b[0m\u001b[0;34m=\u001b[0m\u001b[0;34m'categorical_crossentropy'\u001b[0m\u001b[0;34m,\u001b[0m \u001b[0mmetrics\u001b[0m\u001b[0;34m=\u001b[0m\u001b[0;34m[\u001b[0m\u001b[0;34m'accuracy'\u001b[0m\u001b[0;34m]\u001b[0m\u001b[0;34m)\u001b[0m\u001b[0;34m\u001b[0m\u001b[0;34m\u001b[0m\u001b[0m\n\u001b[1;32m      2\u001b[0m historico = modelo_idade.fit(x=treinamento_x, y=treinamento_y, \n\u001b[0;32m----> 3\u001b[0;31m                              validation_data=(teste_x, teste_y), epochs=numero_epocas, batch_size=32)\n\u001b[0m",
      "\u001b[0;32m/opt/anaconda3/lib/python3.7/site-packages/keras/engine/training.py\u001b[0m in \u001b[0;36mfit\u001b[0;34m(self, x, y, batch_size, epochs, verbose, callbacks, validation_split, validation_data, shuffle, class_weight, sample_weight, initial_epoch, steps_per_epoch, validation_steps, validation_freq, max_queue_size, workers, use_multiprocessing, **kwargs)\u001b[0m\n\u001b[1;32m   1237\u001b[0m                                         \u001b[0msteps_per_epoch\u001b[0m\u001b[0;34m=\u001b[0m\u001b[0msteps_per_epoch\u001b[0m\u001b[0;34m,\u001b[0m\u001b[0;34m\u001b[0m\u001b[0;34m\u001b[0m\u001b[0m\n\u001b[1;32m   1238\u001b[0m                                         \u001b[0mvalidation_steps\u001b[0m\u001b[0;34m=\u001b[0m\u001b[0mvalidation_steps\u001b[0m\u001b[0;34m,\u001b[0m\u001b[0;34m\u001b[0m\u001b[0;34m\u001b[0m\u001b[0m\n\u001b[0;32m-> 1239\u001b[0;31m                                         validation_freq=validation_freq)\n\u001b[0m\u001b[1;32m   1240\u001b[0m \u001b[0;34m\u001b[0m\u001b[0m\n\u001b[1;32m   1241\u001b[0m     def evaluate(self,\n",
      "\u001b[0;32m/opt/anaconda3/lib/python3.7/site-packages/keras/engine/training_arrays.py\u001b[0m in \u001b[0;36mfit_loop\u001b[0;34m(model, fit_function, fit_inputs, out_labels, batch_size, epochs, verbose, callbacks, val_function, val_inputs, shuffle, initial_epoch, steps_per_epoch, validation_steps, validation_freq)\u001b[0m\n\u001b[1;32m    194\u001b[0m                     \u001b[0mins_batch\u001b[0m\u001b[0;34m[\u001b[0m\u001b[0mi\u001b[0m\u001b[0;34m]\u001b[0m \u001b[0;34m=\u001b[0m \u001b[0mins_batch\u001b[0m\u001b[0;34m[\u001b[0m\u001b[0mi\u001b[0m\u001b[0;34m]\u001b[0m\u001b[0;34m.\u001b[0m\u001b[0mtoarray\u001b[0m\u001b[0;34m(\u001b[0m\u001b[0;34m)\u001b[0m\u001b[0;34m\u001b[0m\u001b[0;34m\u001b[0m\u001b[0m\n\u001b[1;32m    195\u001b[0m \u001b[0;34m\u001b[0m\u001b[0m\n\u001b[0;32m--> 196\u001b[0;31m                 \u001b[0mouts\u001b[0m \u001b[0;34m=\u001b[0m \u001b[0mfit_function\u001b[0m\u001b[0;34m(\u001b[0m\u001b[0mins_batch\u001b[0m\u001b[0;34m)\u001b[0m\u001b[0;34m\u001b[0m\u001b[0;34m\u001b[0m\u001b[0m\n\u001b[0m\u001b[1;32m    197\u001b[0m                 \u001b[0mouts\u001b[0m \u001b[0;34m=\u001b[0m \u001b[0mto_list\u001b[0m\u001b[0;34m(\u001b[0m\u001b[0mouts\u001b[0m\u001b[0;34m)\u001b[0m\u001b[0;34m\u001b[0m\u001b[0;34m\u001b[0m\u001b[0m\n\u001b[1;32m    198\u001b[0m                 \u001b[0;32mfor\u001b[0m \u001b[0ml\u001b[0m\u001b[0;34m,\u001b[0m \u001b[0mo\u001b[0m \u001b[0;32min\u001b[0m \u001b[0mzip\u001b[0m\u001b[0;34m(\u001b[0m\u001b[0mout_labels\u001b[0m\u001b[0;34m,\u001b[0m \u001b[0mouts\u001b[0m\u001b[0;34m)\u001b[0m\u001b[0;34m:\u001b[0m\u001b[0;34m\u001b[0m\u001b[0;34m\u001b[0m\u001b[0m\n",
      "\u001b[0;32m/opt/anaconda3/lib/python3.7/site-packages/tensorflow/python/keras/backend.py\u001b[0m in \u001b[0;36m__call__\u001b[0;34m(self, inputs)\u001b[0m\n\u001b[1;32m   3074\u001b[0m \u001b[0;34m\u001b[0m\u001b[0m\n\u001b[1;32m   3075\u001b[0m     fetched = self._callable_fn(*array_vals,\n\u001b[0;32m-> 3076\u001b[0;31m                                 run_metadata=self.run_metadata)\n\u001b[0m\u001b[1;32m   3077\u001b[0m     \u001b[0mself\u001b[0m\u001b[0;34m.\u001b[0m\u001b[0m_call_fetch_callbacks\u001b[0m\u001b[0;34m(\u001b[0m\u001b[0mfetched\u001b[0m\u001b[0;34m[\u001b[0m\u001b[0;34m-\u001b[0m\u001b[0mlen\u001b[0m\u001b[0;34m(\u001b[0m\u001b[0mself\u001b[0m\u001b[0;34m.\u001b[0m\u001b[0m_fetches\u001b[0m\u001b[0;34m)\u001b[0m\u001b[0;34m:\u001b[0m\u001b[0;34m]\u001b[0m\u001b[0;34m)\u001b[0m\u001b[0;34m\u001b[0m\u001b[0;34m\u001b[0m\u001b[0m\n\u001b[1;32m   3078\u001b[0m     return nest.pack_sequence_as(self._outputs_structure,\n",
      "\u001b[0;32m/opt/anaconda3/lib/python3.7/site-packages/tensorflow/python/client/session.py\u001b[0m in \u001b[0;36m__call__\u001b[0;34m(self, *args, **kwargs)\u001b[0m\n\u001b[1;32m   1437\u001b[0m           ret = tf_session.TF_SessionRunCallable(\n\u001b[1;32m   1438\u001b[0m               \u001b[0mself\u001b[0m\u001b[0;34m.\u001b[0m\u001b[0m_session\u001b[0m\u001b[0;34m.\u001b[0m\u001b[0m_session\u001b[0m\u001b[0;34m,\u001b[0m \u001b[0mself\u001b[0m\u001b[0;34m.\u001b[0m\u001b[0m_handle\u001b[0m\u001b[0;34m,\u001b[0m \u001b[0margs\u001b[0m\u001b[0;34m,\u001b[0m \u001b[0mstatus\u001b[0m\u001b[0;34m,\u001b[0m\u001b[0;34m\u001b[0m\u001b[0;34m\u001b[0m\u001b[0m\n\u001b[0;32m-> 1439\u001b[0;31m               run_metadata_ptr)\n\u001b[0m\u001b[1;32m   1440\u001b[0m         \u001b[0;32mif\u001b[0m \u001b[0mrun_metadata\u001b[0m\u001b[0;34m:\u001b[0m\u001b[0;34m\u001b[0m\u001b[0;34m\u001b[0m\u001b[0m\n\u001b[1;32m   1441\u001b[0m           \u001b[0mproto_data\u001b[0m \u001b[0;34m=\u001b[0m \u001b[0mtf_session\u001b[0m\u001b[0;34m.\u001b[0m\u001b[0mTF_GetBuffer\u001b[0m\u001b[0;34m(\u001b[0m\u001b[0mrun_metadata_ptr\u001b[0m\u001b[0;34m)\u001b[0m\u001b[0;34m\u001b[0m\u001b[0;34m\u001b[0m\u001b[0m\n",
      "\u001b[0;31mKeyboardInterrupt\u001b[0m: "
     ]
    }
   ],
   "source": [
    "modelo_idade.compile(optimizer='adam', loss='categorical_crossentropy', metrics=['accuracy'])\n",
    "historico = modelo_idade.fit(x=treinamento_x, y=treinamento_y, \n",
    "                             validation_data=(teste_x, teste_y), epochs=numero_epocas, batch_size=32)"
   ]
  },
  {
   "cell_type": "markdown",
   "metadata": {},
   "source": [
    "Armazene os valores do modelo e dos pesos para inferências futuras."
   ]
  },
  {
   "cell_type": "code",
   "execution_count": null,
   "metadata": {
    "collapsed": true,
    "jupyter": {
     "outputs_hidden": true
    }
   },
   "outputs": [],
   "source": [
    "# Salvando o modelo no formato HDf5\n",
    "modelo_idade.save(\"modelos/modelo_idade.h5\")\n",
    "modelo_idade.save_weights(\"pesos/modelo_idade_pesos.h5\")"
   ]
  },
  {
   "cell_type": "markdown",
   "metadata": {},
   "source": [
    "Os valores de erro e acurácia são importantes indicadores de desempenho da rede. Avaliar a tendência de subida ou descida destes parâmetros é essencial para localizar, por exemplo, prooblemas de _overfitting_ e _underfitting_. \n",
    "Com o suporte dos gráficos avalie a tendência do modelo ao logo das épocas."
   ]
  },
  {
   "cell_type": "code",
   "execution_count": null,
   "metadata": {
    "collapsed": true,
    "jupyter": {
     "outputs_hidden": true
    }
   },
   "outputs": [],
   "source": [
    "# Para deixar no formato do Seaborn os gráficos do Pyplot\n",
    "sns.set()\n",
    "\n",
    "# Exibindo dados de Acurácia/Precisão\n",
    "plt.plot(historico.history['acc'])\n",
    "plt.plot(historico.history['val_acc'])\n",
    "plt.title('model accuracy')\n",
    "plt.ylabel('accuracy')\n",
    "plt.xlabel('epoch')\n",
    "plt.legend(['train', 'test'], loc='upper left')\n",
    "plt.show()\n",
    "\n",
    "# Exibindo dados de Perda\n",
    "plt.plot(historico.history['loss'])\n",
    "plt.plot(historico.history['val_loss'])\n",
    "plt.title('model loss')\n",
    "plt.ylabel('loss')\n",
    "plt.xlabel('epoch')\n",
    "plt.legend(['train', 'test'], loc='upper left')\n",
    "plt.show()"
   ]
  },
  {
   "cell_type": "markdown",
   "metadata": {},
   "source": [
    "**Pergunta:** Qual foi a tendência da função de erro e acurácia do modelo?"
   ]
  },
  {
   "cell_type": "markdown",
   "metadata": {},
   "source": [
    "**Resposta:**"
   ]
  },
  {
   "cell_type": "markdown",
   "metadata": {},
   "source": [
    "Os comandos abaixo são de referência para carregar um modelo para inferências futuras."
   ]
  },
  {
   "cell_type": "code",
   "execution_count": null,
   "metadata": {
    "collapsed": true,
    "jupyter": {
     "outputs_hidden": true
    }
   },
   "outputs": [],
   "source": [
    "# carregando o modelo no formato HDf5\n",
    "modelo_idade = load_model(\"modelos/modelo_idade.h5\")  \n",
    "modelo_idade.load_weights(\"pesos/modelo_idade_pesos.h5\")"
   ]
  },
  {
   "cell_type": "markdown",
   "metadata": {},
   "source": [
    "Este classificador tem uma particularidade diferente quando comparado com outros classificadores.\n",
    "Geralmente um classificador retorna, dado uma amostra, qual a classe mais próxima ou qual tem maior probabilidade estatística. Por exemplo, se fóssemos classificar um objeto, o retorno seria a classe correspondente àquele objeto com maior semelhança, mutualmente excludente, sendo uma única classe como resultado.\n",
    "\n",
    "Neste caso é diferente.\n",
    "\n",
    "Cada classe se refere a uma idade, logo, ao invés de nos basearmos na classe dominante, com maior probabilidade, podemos somar as probabilidades com cada classe e assim ter um valor de idade mais aproximado (veja na imagem abaixo do pipeline, item 5). \n",
    "\n",
    "É por essa razão que a acurácia do modelo, baseada somente na classe dominante é baixa.\n",
    "\n",
    "<p align=\"center\">\n",
    "<img src=\"imagens-aux/pipeline.png\">\n",
    "</p>\n",
    "\n",
    "Os comandos abaixo contabilizam a predição baseada na soma das probabilidades de cada classe."
   ]
  },
  {
   "cell_type": "code",
   "execution_count": null,
   "metadata": {
    "collapsed": true,
    "jupyter": {
     "outputs_hidden": true
    }
   },
   "outputs": [],
   "source": [
    "predicoes_idade = modelo_idade.predict(teste_x)\n",
    "classes_idade_saida = np.array([i for i in range(0, classes_idade)])\n",
    "predicoes_agrupadas = np.sum(predicoes_idade * classes_idade_saida, axis = 1)"
   ]
  },
  {
   "cell_type": "markdown",
   "metadata": {},
   "source": [
    "Deste modo, o valor da acurácia não é o melhor para avaliarmoso modelo. A uma outra forma de avaliação é utilizarmos o _Erro Médio Absoluto_.\n",
    "\n",
    "O uso do _Erro Médio Absoluto_ foi integralmente aplicado de acordo com este [artigo](https://sefiks.com/2019/02/13/apparent-age-and-gender-prediction-in-keras)."
   ]
  },
  {
   "cell_type": "code",
   "execution_count": null,
   "metadata": {
    "collapsed": true,
    "jupyter": {
     "outputs_hidden": true
    }
   },
   "outputs": [],
   "source": [
    "erro_medio_absoluto = 0\n",
    "atual_media = 0\n",
    "\n",
    "for i in range(0 ,predicoes_agrupadas.shape[0]):\n",
    "    predicao = int(predicoes_agrupadas[i])\n",
    "    atual = np.argmax(teste_y[i])\n",
    "    erro_abs = abs(predicao - atual)\n",
    "    atual_media = atual_media + atual\n",
    "    erro_medio_absoluto += erro_abs"
   ]
  },
  {
   "cell_type": "code",
   "execution_count": null,
   "metadata": {
    "collapsed": true,
    "jupyter": {
     "outputs_hidden": true
    }
   },
   "outputs": [],
   "source": [
    "erro_medio_absoluto /= predicoes_agrupadas.shape[0]\n",
    " \n",
    "print(\"Erro médio absoluto (+/-): \", erro_medio_absoluto, \" anos\")\n",
    "print(\"Exemplos analisados: \",predicoes_agrupadas.shape[0])"
   ]
  },
  {
   "cell_type": "markdown",
   "metadata": {},
   "source": [
    "> **Critério de sucesso:** com base nas amostras de teste, o erro absoluto precisa ser não mais do que (+/-) 8."
   ]
  },
  {
   "cell_type": "markdown",
   "metadata": {},
   "source": [
    "### 2.7 Avaliação final\n",
    "\n",
    "Vamos analisar um conjunto de 6 imagens e verificar a coerência do modelo.\n",
    "Antes precisamos contruir uma função, a ```carregarImagem``` para padronizar a imagem, redimensionando para o formato do modelo e normalizando a intensidade dos pixels."
   ]
  },
  {
   "cell_type": "code",
   "execution_count": null,
   "metadata": {
    "collapsed": true,
    "jupyter": {
     "outputs_hidden": true
    }
   },
   "outputs": [],
   "source": [
    "def carregarImagem(caminho):\n",
    "    imagem = image.load_img(caminho, target_size=(224, 224))\n",
    "    imagem = image.img_to_array(imagem)\n",
    "    imagem = np.expand_dims(imagem, axis = 0)\n",
    "    imagem /= 255\n",
    "    return imagem"
   ]
  },
  {
   "cell_type": "markdown",
   "metadata": {},
   "source": [
    "Para cada imagem de testes já separadas no diretório ```testes```, vamos padronizá-la."
   ]
  },
  {
   "cell_type": "code",
   "execution_count": null,
   "metadata": {
    "collapsed": true,
    "jupyter": {
     "outputs_hidden": true
    }
   },
   "outputs": [],
   "source": [
    "caminho_imagem_1 = \"testes/teste-1.jpg\"\n",
    "imagem_1_pad = carregarImagem(caminho_imagem_1)"
   ]
  },
  {
   "cell_type": "markdown",
   "metadata": {},
   "source": [
    "Executar a inferência para obter sua predição."
   ]
  },
  {
   "cell_type": "code",
   "execution_count": null,
   "metadata": {
    "collapsed": true,
    "jupyter": {
     "outputs_hidden": true
    }
   },
   "outputs": [],
   "source": [
    "predicao_1 = modelo_idade.predict(imagem_1_pad)"
   ]
  },
  {
   "cell_type": "markdown",
   "metadata": {},
   "source": [
    "E, finalmente, somar as classes para a classificação mais exata."
   ]
  },
  {
   "cell_type": "code",
   "execution_count": null,
   "metadata": {
    "collapsed": true,
    "jupyter": {
     "outputs_hidden": true
    }
   },
   "outputs": [],
   "source": [
    "idade_agrupada_1 = np.round(np.sum(predicao_1 * classes_idade_saida, axis = 1))"
   ]
  },
  {
   "cell_type": "markdown",
   "metadata": {},
   "source": [
    "A função abaixo é para exibirmos no gráfico. Como elas estão com tamanhos diferentes, vamos também redimensioná-las para o padrão do moodeo, apenas por convenção, poderia ser outro tamanho."
   ]
  },
  {
   "cell_type": "code",
   "execution_count": null,
   "metadata": {
    "collapsed": true,
    "jupyter": {
     "outputs_hidden": true
    }
   },
   "outputs": [],
   "source": [
    "imagem_1 = image.load_img(caminho_imagem_1, target_size=(224, 224))"
   ]
  },
  {
   "cell_type": "markdown",
   "metadata": {},
   "source": [
    "Agora, faremos para todas as outras imagens."
   ]
  },
  {
   "cell_type": "code",
   "execution_count": null,
   "metadata": {
    "collapsed": true,
    "jupyter": {
     "outputs_hidden": true
    }
   },
   "outputs": [],
   "source": [
    "caminho_imagem_2 = \"testes/teste-2.png\"\n",
    "imagem_2_pad = carregarImagem(caminho_imagem_2)\n",
    "imagem_2 = image.load_img(caminho_imagem_2, target_size=(224, 224))\n",
    "predicao_2 = modelo_idade.predict(imagem_2_pad)\n",
    "idade_agrupada_2 = np.round(np.sum(predicao_2 * classes_idade_saida, axis = 1))\n",
    "\n",
    "caminho_imagem_3 = \"testes/teste-3.png\"\n",
    "imagem_3_pad = carregarImagem(caminho_imagem_3)\n",
    "imagem_3 = image.load_img(caminho_imagem_3, target_size=(224, 224))\n",
    "predicao_3 = modelo_idade.predict(imagem_3_pad)\n",
    "idade_agrupada_3 = np.round(np.sum(predicao_3 * classes_idade_saida, axis = 1))\n",
    "\n",
    "caminho_imagem_4 = \"testes/teste-4.png\"\n",
    "imagem_4_pad = carregarImagem(caminho_imagem_4)\n",
    "imagem_4 = image.load_img(caminho_imagem_4, target_size=(224, 224))\n",
    "predicao_4 = modelo_idade.predict(imagem_4_pad)\n",
    "idade_agrupada_4 = np.round(np.sum(predicao_4 * classes_idade_saida, axis = 1))\n",
    "\n",
    "caminho_imagem_5 = \"testes/teste-5.png\"\n",
    "imagem_5_pad = carregarImagem(caminho_imagem_5)\n",
    "imagem_5 = image.load_img(caminho_imagem_5, target_size=(224, 224))\n",
    "predicao_5 = modelo_idade.predict(imagem_5_pad)\n",
    "idade_agrupada_5 = np.round(np.sum(predicao_5 * classes_idade_saida, axis = 1))\n",
    "\n",
    "caminho_imagem_6 = \"testes/teste-6.png\"\n",
    "imagem_6_pad = carregarImagem(caminho_imagem_6)\n",
    "imagem_6 = image.load_img(caminho_imagem_6, target_size=(224, 224))\n",
    "predicao_6 = modelo_idade.predict(imagem_6_pad)\n",
    "idade_agrupada_6 = np.round(np.sum(predicao_6 * classes_idade_saida, axis = 1))"
   ]
  },
  {
   "cell_type": "markdown",
   "metadata": {},
   "source": [
    "Exibindo as imagens.\n",
    "\n",
    "O resultado da idade é índice 0 do objeto ```idade_agrupada```."
   ]
  },
  {
   "cell_type": "code",
   "execution_count": null,
   "metadata": {
    "collapsed": true,
    "jupyter": {
     "outputs_hidden": true
    }
   },
   "outputs": [],
   "source": [
    "plt.figure(figsize=(20,10))\n",
    "plt.subplot(231)\n",
    "plt.title(\"Idade inferida \" + str(idade_agrupada_1[0]))\n",
    "plt.imshow(imagem_1)\n",
    "plt.subplot(232)\n",
    "plt.title(\"Idade inferida \" + str(idade_agrupada_2[0]))\n",
    "plt.imshow(imagem_2)\n",
    "plt.subplot(233)\n",
    "plt.title(\"Idade inferida \" + str(idade_agrupada_3[0]))\n",
    "plt.imshow(imagem_3)\n",
    "plt.subplot(234)\n",
    "plt.title(\"Idade inferida \" + str(idade_agrupada_4[0]))\n",
    "plt.imshow(imagem_4)\n",
    "plt.subplot(235)\n",
    "plt.title(\"Idade inferida \" + str(idade_agrupada_5[0]))\n",
    "plt.imshow(imagem_5)\n",
    "plt.subplot(236)\n",
    "plt.title(\"Idade inferida \" + str(idade_agrupada_6[0]))\n",
    "plt.imshow(imagem_6)\n",
    "\n",
    "plt.show()"
   ]
  },
  {
   "cell_type": "markdown",
   "metadata": {},
   "source": [
    "Analise se as idades estão coerentes com as imagens. Se estiver muito fora, avalie aumentar o número de épocas, por exemplo.\n",
    "\n",
    "Agora vamos implementar a função que retornará a idade a partir de uma imagem de entrada já padronizada (assuma que foi padronizada por uma função como a ```carregarImagem```. Assegure que a função retorne o valor da idade inferida em valor numérico, sem valor fracionário, somente inteiro."
   ]
  },
  {
   "cell_type": "code",
   "execution_count": null,
   "metadata": {
    "collapsed": true,
    "jupyter": {
     "outputs_hidden": true
    }
   },
   "outputs": [],
   "source": [
    "def predizerIdade(imagem):\n",
    "    # IMPLEMENTAR"
   ]
  },
  {
   "cell_type": "markdown",
   "metadata": {},
   "source": [
    "## 3. Modelo de predição de gênero biológico\n",
    "\n",
    "A base utilizada será a mesma que aplicamos no modeo de idade. Nesse o caso o modelo terá uma tarefa mais fácil, pois ao invés de aproximidamente 100 classes vamos ter somente 2 classes, uma cada definir o gênero masculino e outra para o gênero feminino. "
   ]
  },
  {
   "cell_type": "markdown",
   "metadata": {},
   "source": [
    "### 3.1 Definição do modelo\n",
    "Vamos começar definindo o número de classes."
   ]
  },
  {
   "cell_type": "code",
   "execution_count": null,
   "metadata": {
    "collapsed": true,
    "jupyter": {
     "outputs_hidden": true
    }
   },
   "outputs": [],
   "source": [
    "# IMPLEMENTAR\n",
    "num_classes_genero = None"
   ]
  },
  {
   "cell_type": "markdown",
   "metadata": {},
   "source": [
    "Transformando os valores do conjunto de dados em _one hot enconding_ para definição dos gêneros."
   ]
  },
  {
   "cell_type": "code",
   "execution_count": null,
   "metadata": {
    "collapsed": true,
    "jupyter": {
     "outputs_hidden": true
    }
   },
   "outputs": [],
   "source": [
    "generos = df['gender'].values\n",
    "generos_classes = keras.utils.to_categorical(generos, num_classes_genero)"
   ]
  },
  {
   "cell_type": "markdown",
   "metadata": {},
   "source": [
    "Como para ambos os modelos, de idade e gênero, utilizamos a mesma base de _transfer learning_ do VGGFace, vamos reutilizá-la também neste modelo."
   ]
  },
  {
   "cell_type": "code",
   "execution_count": null,
   "metadata": {
    "collapsed": true,
    "jupyter": {
     "outputs_hidden": true
    }
   },
   "outputs": [],
   "source": [
    "for layer in modelo.layers[:-7]:\n",
    "    layer.trainable = False\n",
    "\n",
    "saida_modelo = Sequential()\n",
    "saida_modelo = Convolution2D(num_classes_genero, (1, 1), name='predictions')(modelo.layers[-4].output)\n",
    "saida_modelo = Flatten()(saida_modelo)\n",
    "saida_modelo = Activation('softmax')(saida_modelo)\n",
    "\n",
    "modelo_genero = Model(inputs=modelo.input, outputs=saida_modelo)"
   ]
  },
  {
   "cell_type": "markdown",
   "metadata": {},
   "source": [
    "### 3.2 Separação de dados de treinamento e validação\n",
    "\n",
    "É recomendavel manter a mesma porcentagem do modelo anterior para dividir os dados de treinamento e validação."
   ]
  },
  {
   "cell_type": "code",
   "execution_count": null,
   "metadata": {
    "collapsed": true,
    "jupyter": {
     "outputs_hidden": true
    }
   },
   "outputs": [],
   "source": [
    "#IMPLEMENTAR\n",
    "porcentagem_validacao = None"
   ]
  },
  {
   "cell_type": "code",
   "execution_count": null,
   "metadata": {
    "collapsed": true,
    "jupyter": {
     "outputs_hidden": true
    }
   },
   "outputs": [],
   "source": [
    "treinamento_x, teste_x, treinamento_y, teste_y = train_test_split(features_imagem, \n",
    "                                                                  generos_classes, \n",
    "                                                                  test_size=porcentagem_validacao)"
   ]
  },
  {
   "cell_type": "markdown",
   "metadata": {},
   "source": [
    "### 3.3 Treinamento e validação\n",
    "\n",
    "A seguir iremos treinar o modelo para classificação de gêneros.\n",
    "De forma semelhante realizada anteriormente, é necessário definir o número de épocas para esta etapa. Recomendamos um valor mínimo de 2."
   ]
  },
  {
   "cell_type": "code",
   "execution_count": null,
   "metadata": {
    "collapsed": true,
    "jupyter": {
     "outputs_hidden": true
    }
   },
   "outputs": [],
   "source": [
    "# IMPLEMENTAR\n",
    "numero_epocas = None"
   ]
  },
  {
   "cell_type": "markdown",
   "metadata": {},
   "source": [
    "*Caso o modelo trave no treinamento, experimente diminuir o ```batch_size```*.\n",
    "\n",
    "Este modelo é mais simples por ter menos classes, logo podemos assumir um ```batch_size``` maior que o anterior."
   ]
  },
  {
   "cell_type": "code",
   "execution_count": null,
   "metadata": {
    "collapsed": true,
    "jupyter": {
     "outputs_hidden": true
    }
   },
   "outputs": [],
   "source": [
    "modelo_genero.compile(optimizer='adam', loss='categorical_crossentropy', metrics=['accuracy'])\n",
    "historico_genero = modelo_genero.fit(x=treinamento_x, y=treinamento_y, \n",
    "                             validation_data=(teste_x, teste_y), epochs=numero_epocas, batch_size=64)"
   ]
  },
  {
   "cell_type": "markdown",
   "metadata": {},
   "source": [
    "Verifique abaixo, por meio dos gráficos, como está a evolução da função de erro e acurácia do modelo."
   ]
  },
  {
   "cell_type": "code",
   "execution_count": null,
   "metadata": {
    "collapsed": true,
    "jupyter": {
     "outputs_hidden": true
    }
   },
   "outputs": [],
   "source": [
    "# Para deixar no formato do Seaborn os gráficos do Pyplot\n",
    "sns.set()\n",
    "\n",
    "# Exibindo dados de Acurácia/Precisão\n",
    "plt.plot(historico_genero.history['acc'])\n",
    "plt.plot(historico_genero.history['val_acc'])\n",
    "plt.title('model accuracy')\n",
    "plt.ylabel('accuracy')\n",
    "plt.xlabel('epoch')\n",
    "plt.legend(['train', 'test'], loc='upper left')\n",
    "plt.show()\n",
    "\n",
    "# Exibindo dados de Perda\n",
    "plt.plot(historico_genero.history['loss'])\n",
    "plt.plot(historico_genero.history['val_loss'])\n",
    "plt.title('model loss')\n",
    "plt.ylabel('loss')\n",
    "plt.xlabel('epoch')\n",
    "plt.legend(['train', 'test'], loc='upper left')\n",
    "plt.show()"
   ]
  },
  {
   "cell_type": "markdown",
   "metadata": {},
   "source": [
    "**Pergunta:** Qual foi a tendência da função de erro e acurácia do modelo?"
   ]
  },
  {
   "cell_type": "markdown",
   "metadata": {},
   "source": [
    "**Resposta:**"
   ]
  },
  {
   "cell_type": "markdown",
   "metadata": {},
   "source": [
    "Salve os modelos abaixo para uso em inferências mais adiante no projeto."
   ]
  },
  {
   "cell_type": "code",
   "execution_count": null,
   "metadata": {
    "collapsed": true,
    "jupyter": {
     "outputs_hidden": true
    }
   },
   "outputs": [],
   "source": [
    "# Salvando o modelo no formato HDf5\n",
    "modelo_genero.save(\"modelos/modelo_genero.h5\")\n",
    "modelo_genero.save_weights(\"pesos/modelo_genero_pesos.h5\")"
   ]
  },
  {
   "cell_type": "markdown",
   "metadata": {},
   "source": [
    "Os comandos a seguir são para carregar os pesos e o modelo previamente treinado."
   ]
  },
  {
   "cell_type": "code",
   "execution_count": null,
   "metadata": {
    "collapsed": true,
    "jupyter": {
     "outputs_hidden": true
    }
   },
   "outputs": [],
   "source": [
    "# carregando o modelo no formato HDf5\n",
    "modelo_genero = load_model(\"modelos/modelo_genero.h5\")  \n",
    "modelo_genero.load_weights(\"pesos/modelo_genero_pesos.h5\")"
   ]
  },
  {
   "cell_type": "markdown",
   "metadata": {},
   "source": [
    "> **Critério de sucesso:** acurácia do modelo, com base nas amostra de teste, superior a 95%."
   ]
  },
  {
   "cell_type": "markdown",
   "metadata": {},
   "source": [
    "### 3.4 Avaliação final\n",
    "\n",
    "Com base em algumas amostras da base de testes, vamos inferir 6 imagens para verificarmos o desempenho do modeo.\n",
    "Selecionamos 3 imagens de homens e mulheres.\n",
    "\n",
    "Como este modelo é mais simples, ou seja, o resultado sempre vai ser a classe com maior probabilidade, não precisamos realizar a somatória dos pesos individualmente como fizemos no modelo anterior.\n",
    "\n",
    "Assim o resultado final será obtido pela maior classe. A função ```np.argmax``` retorna a maior classe da predição realizada pelo modelo.\n",
    "\n",
    "De acordo com o _encoding_, o índice 0 indica gênero masculino e o índice 1 o gênero feminino."
   ]
  },
  {
   "cell_type": "code",
   "execution_count": null,
   "metadata": {
    "collapsed": true,
    "jupyter": {
     "outputs_hidden": true
    }
   },
   "outputs": [],
   "source": [
    "predicao_1 = modelo_genero.predict(imagem_1_pad)\n",
    "resultado_1 = \"Masculino\" if np.argmax(predicao_1) == 1 else \"Feminino\"\n",
    "\n",
    "predicao_2 = modelo_genero.predict(imagem_2_pad)\n",
    "resultado_2 = \"Masculino\" if np.argmax(predicao_2) == 1 else \"Feminino\"\n",
    "\n",
    "predicao_3 = modelo_genero.predict(imagem_3_pad)\n",
    "resultado_3 = \"Masculino\" if np.argmax(predicao_3) == 1 else \"Feminino\"\n",
    "\n",
    "predicao_4 = modelo_genero.predict(imagem_4_pad)\n",
    "resultado_4 = \"Masculino\" if np.argmax(predicao_4) == 1 else \"Feminino\"\n",
    "\n",
    "predicao_5 = modelo_genero.predict(imagem_5_pad)\n",
    "resultado_5 = \"Masculino\" if np.argmax(predicao_5) == 1 else \"Feminino\"\n",
    "\n",
    "predicao_6 = modelo_genero.predict(imagem_6_pad)\n",
    "resultado_6 = \"Masculino\" if np.argmax(predicao_6) == 1 else \"Feminino\""
   ]
  },
  {
   "cell_type": "markdown",
   "metadata": {},
   "source": [
    "Agora vamos exibir no gráfico as imagens e as inferências realizadas."
   ]
  },
  {
   "cell_type": "code",
   "execution_count": null,
   "metadata": {
    "collapsed": true,
    "jupyter": {
     "outputs_hidden": true
    }
   },
   "outputs": [],
   "source": [
    "# Para deixar no formato do Seaborn os gráficos do Pyplot\n",
    "sns.set()\n",
    "sns.set_style(\"whitegrid\", {'axes.grid' : False})\n",
    "\n",
    "plt.figure(figsize=(20,10))\n",
    "plt.subplot(231)\n",
    "plt.title(\"Gênero inferido: \" + resultado_1)\n",
    "plt.imshow(imagem_1)\n",
    "plt.subplot(232)\n",
    "plt.title(\"Gênero inferido: \" + resultado_2)\n",
    "plt.imshow(imagem_2)\n",
    "plt.subplot(233)\n",
    "plt.title(\"Gênero inferido: \" + resultado_3)\n",
    "plt.imshow(imagem_3)\n",
    "plt.subplot(234)\n",
    "plt.title(\"Gênero inferido: \" + resultado_4)\n",
    "plt.imshow(imagem_4)\n",
    "plt.subplot(235)\n",
    "plt.title(\"Gênero inferido: \" + resultado_5)\n",
    "plt.imshow(imagem_5)\n",
    "plt.subplot(236)\n",
    "plt.title(\"Gênero inferido: \" + resultado_6)\n",
    "plt.imshow(imagem_6)\n",
    "\n",
    "plt.show()"
   ]
  },
  {
   "cell_type": "markdown",
   "metadata": {},
   "source": [
    "Vamos aproveitar para deixar preparado a função de predição de gênero para usarmos mais adiante.\n",
    "Implemente a função abaixo para retornar \"Masculino\" se a classe com maior probabilidade for 1, ou \"Feminino\" se a maior probabilidade for a classe igual a 0.\n",
    "É do mesmo jeito que fizemos anteriormente na predição de idade. Assuma que o parâmetro de entrada seja uma imagem já padronizada."
   ]
  },
  {
   "cell_type": "code",
   "execution_count": null,
   "metadata": {
    "collapsed": true,
    "jupyter": {
     "outputs_hidden": true
    }
   },
   "outputs": [],
   "source": [
    "def predizerGenero(imagem):\n",
    "    # IMPLEMENTAR"
   ]
  },
  {
   "cell_type": "markdown",
   "metadata": {},
   "source": [
    "## 4. Identificação de faces\n",
    "\n",
    "Nesta etapa precisamos construir uma forma de extrair regiões de interesse de imagens que sejam rostos. \n",
    "Problema de reconhecimento de faces aprofundado é realizada a partir de um recorte de região de interesse. Logo, nossa estratégia agora é como extrair uma ou mais faces de uma imagem para que seja possível, posteriormente, aplicarmos os modelos que acabamos de classificar.\n",
    "\n",
    "Vamos começar com um teste simples."
   ]
  },
  {
   "cell_type": "code",
   "execution_count": null,
   "metadata": {
    "collapsed": true,
    "jupyter": {
     "outputs_hidden": true
    }
   },
   "outputs": [],
   "source": [
    "imagem = cv2.imread('testes/teste-8.png')\n",
    "imagem = cv2.cvtColor(imagem, cv2.COLOR_BGR2RGB)"
   ]
  },
  {
   "cell_type": "code",
   "execution_count": null,
   "metadata": {
    "collapsed": true,
    "jupyter": {
     "outputs_hidden": true
    }
   },
   "outputs": [],
   "source": [
    "plt.figure(figsize=(20,10))\n",
    "plt.imshow(imagem)\n",
    "plt.title(\"Pessoas\")"
   ]
  },
  {
   "cell_type": "markdown",
   "metadata": {},
   "source": [
    "Escolha uma forma de identificar rostos de uma imagem.\n",
    "Recomendamos as seguintes formas:\n",
    "\n",
    "* Classificador em cascata de Haar\n",
    "* Detector de face baseado em Hog (DLib), recomendamos utilizar o classificador de 68 pontos para maior precisão\n",
    "\n",
    "Dada a imagem de testes apresentada, execute seu algoritmo escolhido e retorne o número de faces na variável ```faces```."
   ]
  },
  {
   "cell_type": "code",
   "execution_count": null,
   "metadata": {
    "collapsed": true,
    "jupyter": {
     "outputs_hidden": true
    }
   },
   "outputs": [],
   "source": [
    "# IMPLEMENTAR\n",
    "\n",
    "faces = None"
   ]
  },
  {
   "cell_type": "code",
   "execution_count": null,
   "metadata": {
    "collapsed": true,
    "jupyter": {
     "outputs_hidden": true
    }
   },
   "outputs": [],
   "source": [
    "print(\"Faces encontradas: \" + str(len(faces)))"
   ]
  },
  {
   "cell_type": "markdown",
   "metadata": {},
   "source": [
    "> **Critério de sucesso:** encontrar as 2 faces da imagem."
   ]
  },
  {
   "cell_type": "markdown",
   "metadata": {},
   "source": [
    "Com as faces identificadas, desenhe um retângulo em cada uma delas.\n",
    "Para desenhar um retângulo, é necessário os seguintes dados: coordenada x, y, comprimento (w) e altura (h).\n",
    "\n",
    "Caso utilize o detector de faces do DLib, o valor da coordenada x é equivalente ao atributo _left_ e a coordenada y é o equivalente ao atributo _top_.\n",
    "\n",
    "O DLib é um identificador tão versátil que é capaz de identificar rostos parciais em uma imagem. No entanto, quando isso ocorre as coordenadas podem ser negativas, o que pode demandar um certo ajuste para obter o valor da região de interesse, por exemplo igualando a coordenada a 0.\n",
    "\n",
    "Utilize o seguinte comando para desenhar um retângulo em cada face identificada.\n",
    "\n",
    "````\n",
    "cv2.rectangle(imagem_anotada, (x,y), (x+w,y+h), (255,255,0), 2)\n",
    "````"
   ]
  },
  {
   "cell_type": "markdown",
   "metadata": {},
   "source": [
    "Criando uma cópia da imagem original para anotação."
   ]
  },
  {
   "cell_type": "code",
   "execution_count": null,
   "metadata": {
    "collapsed": true,
    "jupyter": {
     "outputs_hidden": true
    }
   },
   "outputs": [],
   "source": [
    "imagem_anotada = imagem.copy()"
   ]
  },
  {
   "cell_type": "code",
   "execution_count": null,
   "metadata": {
    "collapsed": true,
    "jupyter": {
     "outputs_hidden": true
    }
   },
   "outputs": [],
   "source": [
    "#IMPLEMENTAR\n"
   ]
  },
  {
   "cell_type": "markdown",
   "metadata": {},
   "source": [
    "Exibindo a imagem com os retângulos desenhados."
   ]
  },
  {
   "cell_type": "code",
   "execution_count": null,
   "metadata": {
    "collapsed": true,
    "jupyter": {
     "outputs_hidden": true
    }
   },
   "outputs": [],
   "source": [
    "plt.figure(figsize=(20,10))\n",
    "plt.imshow(imagem_anotada)\n",
    "plt.title(\"Pessoas\")"
   ]
  },
  {
   "cell_type": "markdown",
   "metadata": {},
   "source": [
    "Uma vez que já foi definido o melhor algoritmo de identificação de faces, precisamos construir uma função que posteriormente utilizaremos no processo de processamento de vídeos.\n",
    "\n",
    "Essa função deverá receber na entrada uma imagem colorida e retornar, na forma de lista, um dicionário com as seguintes informações: extração do ROI do rosto e as coordenadas da localização do rosto.\n",
    "\n",
    "Exemplo de retorno:\n",
    "\n",
    "```json\n",
    "[{'coordenadas': [array([589, 290, 386, 386])],\n",
    "  'rosto': array([[[38, 21, 19],\n",
    "          [40, 21, 20],\n",
    "          [41, 22, 20],\n",
    "          ...,\n",
    "          [36, 19, 13],\n",
    "          [37, 20, 15],\n",
    "          [40, 23, 18]],...}]\n",
    "```"
   ]
  },
  {
   "cell_type": "markdown",
   "metadata": {},
   "source": [
    "O atributo rosto utilizaremos para aplicarmos os modelos de reconhecimento de idade e gênero, e as coordenadas serão utilizadas para fazer os recortes nas imagens.\n",
    "\n",
    "Com isso, a chave ```rosto``` deverá ter o _slice_ da imagem neste padrão ```imagem[y:y+h, x:x+w]``` e a chave ```coordenadas``` deverá ter a saída dos pontos (x, y, h, w) neste padrão ```[np.array(lista_coordenadas)]```."
   ]
  },
  {
   "cell_type": "code",
   "execution_count": null,
   "metadata": {
    "collapsed": true,
    "jupyter": {
     "outputs_hidden": true
    }
   },
   "outputs": [],
   "source": [
    "def obterFaces(imagem):\n",
    "    rostos = []\n",
    "    \n",
    "    #IMPLEMENTAR\n",
    "    \n",
    "    return rostos"
   ]
  },
  {
   "cell_type": "markdown",
   "metadata": {},
   "source": [
    "Vamos aplicar um teste com a imagem anterior (variável ```imagem```)."
   ]
  },
  {
   "cell_type": "code",
   "execution_count": null,
   "metadata": {
    "collapsed": true,
    "jupyter": {
     "outputs_hidden": true
    }
   },
   "outputs": [],
   "source": [
    "rostos = obterFaces(imagem)\n",
    "rostos"
   ]
  },
  {
   "cell_type": "markdown",
   "metadata": {},
   "source": [
    "> **Critério de sucesso:** retornar 2 valores (da lista) com coordenadas e rosto para cada face identificada. Exemplo:\n",
    "\n",
    "\n",
    "```\n",
    "[{'coordenadas': [array([534, 20,  90, 100], dtype=int32)],\n",
    "  'rosto': array([...], shape=(0, 89, 3), dtype=uint8)},\n",
    "  {'coordenadas': [array([222, 13,  90, 100], dtype=int32)],\n",
    "  'rosto': array([...], shape=(0, 89, 3), dtype=uint8)}]\n",
    "```"
   ]
  },
  {
   "cell_type": "markdown",
   "metadata": {},
   "source": [
    "Agora vamos testar se os parâmetros estão funcionando adequadamente.\n",
    "\n",
    "Primeiro a imagem do rosto."
   ]
  },
  {
   "cell_type": "code",
   "execution_count": null,
   "metadata": {
    "collapsed": true,
    "jupyter": {
     "outputs_hidden": true
    }
   },
   "outputs": [],
   "source": [
    "sns.set_style(\"whitegrid\", {'axes.grid' : False})\n",
    "plt.figure(figsize=(20,10))\n",
    "plt.imshow(rostos[0][\"rosto\"])\n",
    "plt.title(\"Pessoas\")"
   ]
  },
  {
   "cell_type": "markdown",
   "metadata": {},
   "source": [
    "O próximo passo são as coordenadas. Para simplificar, vamos desenhar um retângulo na imagem original com estes pontos."
   ]
  },
  {
   "cell_type": "code",
   "execution_count": null,
   "metadata": {
    "collapsed": true,
    "jupyter": {
     "outputs_hidden": true
    }
   },
   "outputs": [],
   "source": [
    "imagem_anotada = imagem.copy()\n",
    "\n",
    "for (x,y,w,h) in rostos[0][\"coordenadas\"]:\n",
    "    cv2.rectangle(imagem_anotada, (x,y), (x+w,y+h), (255,255,0), 2)\n",
    "\n",
    "sns.set_style(\"whitegrid\", {'axes.grid' : False})\n",
    "plt.figure(figsize=(20,10))\n",
    "plt.imshow(imagem_anotada)\n",
    "plt.title(\"Pessoas\")"
   ]
  },
  {
   "cell_type": "markdown",
   "metadata": {},
   "source": [
    "### 4.1 Padronização de tamanho de imagem\n",
    "\n",
    "Adiante, quando aplicarmos a classificação dos rostos, precisaremos antes padronizar a imagem para o tamanho que o modelo recebe na camada de entrada bem como a normalização dos pixels da imagem, ou seja, ao invés de estar no formato de intensidade de pixel de 0 a 255, deve estar representado entre 0 e 1.\n",
    "\n",
    "As implementações deverão ser as seguintes:\n",
    "\n",
    "1. ```IMPLEMENTAR 1```: redimensionar a imagem para o tamanho da camada de entrada. Utilize uma interpolação adequada para não perder qualidade de imagem.\n",
    "2. ```IMPLEMENTAR 2```: normalizar a intensidade de pixel da imagem para 0 e 1 e não 0 a 255, que é o padrão.\n",
    "\n",
    "As demais instruções seguem inalteradas."
   ]
  },
  {
   "cell_type": "code",
   "execution_count": null,
   "metadata": {
    "collapsed": true,
    "jupyter": {
     "outputs_hidden": true
    }
   },
   "outputs": [],
   "source": [
    "def padronizarROI(imagem):\n",
    "    # IMPLEMENTAR 1\n",
    "    imagem = None\n",
    "    \n",
    "    imagem = image.img_to_array(imagem)\n",
    "    imagem = np.expand_dims(imagem, axis = 0)\n",
    "    \n",
    "    # IMPLEMENTAR 2\n",
    "    imagem = None\n",
    "    \n",
    "    return imagem"
   ]
  },
  {
   "cell_type": "markdown",
   "metadata": {},
   "source": [
    "Agora, vamos avançar para a identificação de objetos."
   ]
  },
  {
   "cell_type": "markdown",
   "metadata": {},
   "source": [
    "## 5. Identificação de objetos\n",
    "\n",
    "Além de identificarmos as pessoas, precisamos também identificar diferentes objetos.\n",
    "Uma forma de alcançarmos tal objetivo é utilizar um modelo já treinado com diversos objetos treinados.\n",
    "\n",
    "O modolo Yolov3, por exemplo, possui 80 diferentes objetos em seu modelo, servindo muito bem para o propósito do desafio."
   ]
  },
  {
   "cell_type": "markdown",
   "metadata": {},
   "source": [
    "### 5.1 Configurando o modelo Yolov3\n",
    "\n",
    "Primeiramente baixe os pesos diretamente no site do Darknet, neste [link](https://pjreddie.com/media/files/yolov3.weights). Copie o arquivo ```yolov3.weights``` para a pasta pesos.\n",
    "Confira o arquivo ```yolo-classes/coco.anmes```. Estas são as classes de todos os objetos que são possíveis identificar.\n",
    "Por fim, verifique se o arquivo ```config/yolov3.cfg``` está presente. Não é necessário ajustar nenhum parâmetro nele."
   ]
  },
  {
   "cell_type": "code",
   "execution_count": null,
   "metadata": {
    "collapsed": true,
    "jupyter": {
     "outputs_hidden": true
    }
   },
   "outputs": [],
   "source": [
    "# Carregar os labels do conjunto de dados Coco\n",
    "label_path = \"yolo-classes/coco.names\"\n",
    "labels = open(label_path).read().strip().split(\"\\n\")\n",
    "\n",
    "# Atribuir a cada label uma cor diferente (randômica)\n",
    "np.random.seed(42)\n",
    "cores = np.random.randint(0, 255, size=(len(labels), 3), dtype=\"uint8\")\n",
    "\n",
    "# Definir caminho dos arquivos de pesos e configuração\n",
    "pesos_path =\"pesos/yolov3.weights\"\n",
    "config_path = \"config/yolov3.cfg\"\n",
    "\n",
    "# Carregar a rede\n",
    "net = cv2.dnn.readNetFromDarknet(config_path, pesos_path)"
   ]
  },
  {
   "cell_type": "markdown",
   "metadata": {},
   "source": [
    "Se o código carregou as configurações sem erros, estamos prontos para avançar."
   ]
  },
  {
   "cell_type": "markdown",
   "metadata": {},
   "source": [
    "Os valores de confiança e supressão não máxima são atributes importantes para o processo de detecção de objetos. Escolha valores adequados que permitam a detecção aceitável e com valores próximos os critérios de sucesso apresentandos mais adiante.\n",
    "\n",
    "Os valores precisam ser numéricos fracionários. Sendo que 1 é igual a 100%. Valores médios costumam apresentar performance razoável."
   ]
  },
  {
   "cell_type": "code",
   "execution_count": null,
   "metadata": {
    "collapsed": true,
    "jupyter": {
     "outputs_hidden": true
    }
   },
   "outputs": [],
   "source": [
    "conf_threshold = None\n",
    "nms_threshold = None"
   ]
  },
  {
   "cell_type": "markdown",
   "metadata": {},
   "source": [
    "**Pergunta:** Qual é a influência do parâmetro de confiança e supressão não máxima na performance do modelo?"
   ]
  },
  {
   "cell_type": "markdown",
   "metadata": {},
   "source": [
    "**Resposta:**"
   ]
  },
  {
   "cell_type": "markdown",
   "metadata": {},
   "source": [
    "### 5.2 Obtendo região de interesse e coordenadas\n",
    "\n",
    "De forma semelhante que foi feito na identificação de faces, vamos fazer para a identificação de objetos.\n",
    "Na função abaixo vamos implementar um algoritmo que retornará em um dicionário os valores do recorte da imagem, o que chamamos de região de interesse e suas coordenadas x, y, w e h.\n",
    "\n",
    "A entrada da função é uma imagem colorida e uma lista de objetos para identificar, no formato de lista.\n",
    "Sua saída, é uma lista de objetos no seguinte formato:\n",
    "\n",
    "```json\n",
    "[{'coordenadas': [array([589, 290, 386, 386])],\n",
    "  'objeto': array([[[38, 21, 19],\n",
    "          [40, 21, 20],\n",
    "          [41, 22, 20],\n",
    "          ...,\n",
    "          [36, 19, 13],\n",
    "          [37, 20, 15],\n",
    "          [40, 23, 18]],...}]\n",
    "```\n",
    "\n",
    "Onde ```coordenadas``` é uma lista das coordenadas x, y, w e h no formato array, igual ao que foi apresentado anteriormente: ```[np.array(lista_coordenadas)]```. E ```objeto``` é a região de interesse do objeto extraído, igual ao que foi apresentado anteriormente: ```imagem[y:y+h, x:x+w]```."
   ]
  },
  {
   "cell_type": "code",
   "execution_count": null,
   "metadata": {
    "collapsed": true,
    "jupyter": {
     "outputs_hidden": true
    }
   },
   "outputs": [],
   "source": [
    "def obter_objetos(imagem, lista_objetos):\n",
    "    \n",
    "    (H, W) = imagem.shape[:2]\n",
    "\n",
    "    ln = net.getLayerNames()\n",
    "    ln = [ln[i[0] - 1] for i in net.getUnconnectedOutLayers()]\n",
    "\n",
    "    blob = cv2.dnn.blobFromImage(imagem, 1/255.0, (416, 416), swapRB=True, crop=False)\n",
    "    net.setInput(blob)\n",
    "    layerOutputs = net.forward(ln)\n",
    "\n",
    "    boxes = []\n",
    "    confidences = []\n",
    "    classIDs = []\n",
    "    objetos = []\n",
    "\n",
    "    for output in layerOutputs:\n",
    "        for detection in output:\n",
    "            scores = detection[5:]\n",
    "            classID = np.argmax(scores)\n",
    "            confidence = scores[classID]\n",
    "\n",
    "            if confidence > conf_threshold:\n",
    "                \n",
    "                box = detection[0:4] * np.array([W, H, W, H])\n",
    "                (centerX, centerY, width, height) = box.astype(\"int\")\n",
    "\n",
    "                x = int(centerX - (width/2))\n",
    "                y = int(centerY - (height/2))\n",
    "\n",
    "                boxes.append([x, y, int(width), int(height)])\n",
    "                confidences.append(float(confidence))\n",
    "                classIDs.append(classID)\n",
    "\n",
    "    idxs = cv2.dnn.NMSBoxes(boxes, confidences, conf_threshold, nms_threshold)\n",
    "\n",
    "    if len(idxs) > 0:\n",
    "        for i in idxs.flatten():\n",
    "            (x, y) = (boxes[i][0], boxes[i][1])\n",
    "            (w, h) = (boxes[i][2], boxes[i][3])\n",
    "            \n",
    "            if x < 0:\n",
    "                x = 0\n",
    "            if y < 0:\n",
    "                y = 0\n",
    "\n",
    "            text = \"{}: {:.4f}\".format(labels[classIDs[i]], confidences[i])\n",
    "            \n",
    "            if labels[classIDs[i]] in lista_objetos:\n",
    "                print(\"Identificado \" + text)\n",
    "                \n",
    "                # IMPLEMENTAR\n",
    "                item = {\"objeto\": None, \"coordenadas\": None}\n",
    "                \n",
    "                objetos.append(item)\n",
    "\n",
    "    return objetos"
   ]
  },
  {
   "cell_type": "markdown",
   "metadata": {},
   "source": [
    "Vamos utilizar outra imagem de testes para validar o algoritmo."
   ]
  },
  {
   "cell_type": "code",
   "execution_count": null,
   "metadata": {
    "collapsed": true,
    "jupyter": {
     "outputs_hidden": true
    }
   },
   "outputs": [],
   "source": [
    "imagem_inferencia = cv2.imread(\"testes/teste-9.png\")\n",
    "imagem_inferencia = cv2.cvtColor(imagem_inferencia, cv2.COLOR_BGR2RGB)"
   ]
  },
  {
   "cell_type": "markdown",
   "metadata": {},
   "source": [
    "Na variável ```lista_objetos``` preecha com uma lista de Strings com os valores \"pessoa\" e \"gravata\" que são os objetos a serem identificados."
   ]
  },
  {
   "cell_type": "code",
   "execution_count": null,
   "metadata": {
    "collapsed": true,
    "jupyter": {
     "outputs_hidden": true
    }
   },
   "outputs": [],
   "source": [
    "# IMPLEMENTAR\n",
    "lista_objetos = [\"pessoa\", \"gravata\"]"
   ]
  },
  {
   "cell_type": "markdown",
   "metadata": {},
   "source": [
    "Execute a função com a lista definida."
   ]
  },
  {
   "cell_type": "code",
   "execution_count": null,
   "metadata": {
    "collapsed": true,
    "jupyter": {
     "outputs_hidden": true
    }
   },
   "outputs": [],
   "source": [
    "objetos = obter_objetos(imagem_inferencia, lista_objetos)"
   ]
  },
  {
   "cell_type": "markdown",
   "metadata": {},
   "source": [
    "Para nos certificamos que a identificação está correta, vamos desenhar um retângulo delimitador na imagem e verificar como foi a identificação.\n",
    "\n",
    "Neste caso vamos utilizar o parâmetro ```coordenadas``` do retorno da função para cada objeto identificado."
   ]
  },
  {
   "cell_type": "code",
   "execution_count": null,
   "metadata": {
    "collapsed": true,
    "jupyter": {
     "outputs_hidden": true
    }
   },
   "outputs": [],
   "source": [
    "imagem_anotada = imagem_inferencia.copy()\n",
    "for obj in objetos:\n",
    "    for (x,y,w,h) in obj[\"coordenadas\"]:\n",
    "        cv2.rectangle(imagem_anotada, (x,y), (x+w,y+h), (255,255,0), 2)"
   ]
  },
  {
   "cell_type": "code",
   "execution_count": null,
   "metadata": {
    "collapsed": true,
    "jupyter": {
     "outputs_hidden": true
    }
   },
   "outputs": [],
   "source": [
    "plt.figure(figsize=(20,10))\n",
    "plt.imshow(imagem_anotada)\n",
    "plt.title(\"Imagem Inferida\")"
   ]
  },
  {
   "cell_type": "markdown",
   "metadata": {},
   "source": [
    "Vamos dar uma olhada em 3 regiões de interesse detectadas.\n",
    "Lembrando que estas regiões são imagens, podemos renderizá-las diretamente no Pyplot."
   ]
  },
  {
   "cell_type": "code",
   "execution_count": null,
   "metadata": {
    "collapsed": true,
    "jupyter": {
     "outputs_hidden": true
    }
   },
   "outputs": [],
   "source": [
    "plt.figure(figsize=(20,10))\n",
    "plt.imshow(objetos[0][\"objeto\"])\n",
    "plt.title(\"Região de interesse #1\")"
   ]
  },
  {
   "cell_type": "code",
   "execution_count": null,
   "metadata": {
    "collapsed": true,
    "jupyter": {
     "outputs_hidden": true
    }
   },
   "outputs": [],
   "source": [
    "plt.figure(figsize=(20,10))\n",
    "plt.imshow(objetos[1][\"objeto\"])\n",
    "plt.title(\"Região de interesse #1\")"
   ]
  },
  {
   "cell_type": "code",
   "execution_count": null,
   "metadata": {
    "collapsed": true,
    "jupyter": {
     "outputs_hidden": true
    }
   },
   "outputs": [],
   "source": [
    "plt.figure(figsize=(20,10))\n",
    "plt.imshow(objetos[2][\"objeto\"])\n",
    "plt.title(\"Região de interesse #1\")"
   ]
  },
  {
   "cell_type": "markdown",
   "metadata": {},
   "source": [
    "Perfeito, agora já estamos prontos para juntar todas as peças e começar nossa auditoria."
   ]
  },
  {
   "cell_type": "markdown",
   "metadata": {},
   "source": [
    "## 6. Auditoria automática em vídeo\n",
    "\n",
    "Esta é a parte final do projeto.\n",
    "Vamos fazer um checkpoint até aqui para ter certeza de que fizemos com sucesso os passos anteriores.\n",
    "\n",
    "* <input type=\"checkbox\" disabled checked> Modelo de detecção de idades treinado\n",
    "* <input type=\"checkbox\" disabled checked> Modelo de detecção de idades salvo\n",
    "* <input type=\"checkbox\" disabled checked> Modelo de detecção de idades carregado\n",
    "* <input type=\"checkbox\" disabled checked> Função de detecção de idades\n",
    "* <input type=\"checkbox\" disabled checked> Modelo de detecção de gênero treinado\n",
    "* <input type=\"checkbox\" disabled checked> Modelo de detecção de gênero salvo\n",
    "* <input type=\"checkbox\" disabled checked> Modelo de detecção de gênero carregado\n",
    "* <input type=\"checkbox\" disabled checked> Função de detecção de gênero\n",
    "* <input type=\"checkbox\" disabled checked> Função de padronização de imagens\n",
    "* <input type=\"checkbox\" disabled checked> Função de extração de faces\n",
    "* <input type=\"checkbox\" disabled checked> Função de extração de objetos\n",
    "\n",
    "O que precisamos identificar no vídeo de auditoria:\n",
    "\n",
    "* Homens com mais de 45 anos\n",
    "* Mulheres com menos de 45 anos\n",
    "* Objetos _computador portátil, celular, teclado, tv _ e _controle remoto_.\n",
    "\n",
    "Vamos começar definindo a lista de objetos."
   ]
  },
  {
   "cell_type": "code",
   "execution_count": null,
   "metadata": {
    "collapsed": true,
    "jupyter": {
     "outputs_hidden": true
    }
   },
   "outputs": [],
   "source": [
    "lista_objetos = [None]"
   ]
  },
  {
   "cell_type": "markdown",
   "metadata": {},
   "source": [
    "Nesta parte vamos reunir tudo o que fizemos até aqui.\n",
    "O algoritmo irá abrir um vídeo e, frame a frame, analisar seu conteúdo.\n",
    "Após a instrução ```if is_capturing``` iremos implementar as verificações.\n",
    "\n",
    "A execução abaixo pode demorar, pois será analisado individualmente cada frame do vídeo.\n",
    "\n",
    "O que precisamos fazer:\n",
    "\n",
    "* ```IMPLEMENTAR 1```: obter as faces de uma imagem. Neste caso receberamos uma lista de rostos no padrão que já vimos, ou seja, uma lista de ```rosto``` e ```coordenadas```.\n",
    "\n",
    "* ```IMPLEMENTAR 2```: obter as a face de um item e padronizar. Lembre-se de utilizar a função de padronização que foi desenvolvida anteriormente, que tem por finalidade ajustar o tamanho da imagem e também normalizá-la.\n",
    "\n",
    "* ```IMPLEMENTAR 3```: executar as funções de identificar a idade e gênero para a tomada de decisões de coleta de evidências.\n",
    "\n",
    "* ```IMPLEMENTAR 4```: criar as regras de armazenamento de evidências para pessoas. Consulte as regras no início do projeto sobre quais os gêneros e idades de interesse. As regiões de interesse nesse caso, os rostos, deverão ser salvos individualmente na pasta ```resultado/homem``` e ```resultado/mulher```.\n",
    "\n",
    "* ```IMPLEMENTAR 5```: criar as regras de armazenamento de evidências para objetos. As regiões de interesse nesse caso, os objetos, deverão ser salvos individualmente na pasta ```resultado/objetos```."
   ]
  },
  {
   "cell_type": "code",
   "execution_count": null,
   "metadata": {
    "collapsed": true,
    "jupyter": {
     "outputs_hidden": true
    }
   },
   "outputs": [],
   "source": [
    "#cam.release()\n",
    "cam = cv2.VideoCapture(\"videos/video-1.avi\")\n",
    "contador = 0 \n",
    "try:\n",
    "    while(True):\n",
    "        contador += 1\n",
    "        is_capturing, imagem = cam.read()\n",
    "        \n",
    "        if is_capturing:\n",
    "            \n",
    "            # IMPLEMENTAR 1\n",
    "            # Obter Faces\n",
    "            faces = None\n",
    "            \n",
    "            for idx, face in enumerate(faces):\n",
    "                print(\"Encontrado \" + str(len(faces)) + \" rostos...\")\n",
    "                \n",
    "                # IMPLEMENTAR 2\n",
    "                # Padronizar a imagem do rosto (ROI)\n",
    "                # Obtenha a imagem do rosto da variável face e armazene em imagem_rosto\n",
    "                # Depois utilize a função padronizarROI, com a variável imagem_rosto para obter\n",
    "                # o rosto padronizado e armazenar em rosto_padronizado\n",
    "                \n",
    "                imagem_rosto = None\n",
    "                rosto_padronizado = None\n",
    "                \n",
    "                # IMPLEMENTAR 3\n",
    "                # Chame as funções para predizer gênero e idade com a imagem padronizada do rosto\n",
    "                \n",
    "                genero = None\n",
    "                idade = None\n",
    "                \n",
    "                print(\"Gênero: \" + genero + \", idade: \" + str(idade))\n",
    "                \n",
    "                # IMPLEMENTAR 4\n",
    "                # Estabeleça as regras de auditoria e salve as evidências (imagens) no diretório resultados\n",
    "                # de acordo com o identificação (resultado/homem, resultado/mulher)\n",
    "                # Cuidado para não sobrescrever as imagens\n",
    "                \n",
    "                if (True):\n",
    "                 \n",
    "                    \n",
    "            objetos = obter_objetos(imagem, lista_objetos)\n",
    "\n",
    "            # IMPLEMENTAR 5\n",
    "            # Estabeleça as regras de auditoria e salve as evidências (imagens) no diretório resultados\n",
    "            # de acordo com o identificação (resultado/objetos)\n",
    "            # Cuidado para não sobrescrever as imagens\n",
    "            \n",
    "            if (True):\n",
    "                    \n",
    "        else:\n",
    "            break\n",
    "        \n",
    "except KeyboardInterrupt:\n",
    "    cam.release()\n",
    "    print(\"Interrompido\")"
   ]
  },
  {
   "cell_type": "markdown",
   "metadata": {},
   "source": [
    "> **Critério de sucesso:** identificação de 180 imagens de homens. Como uma mesma pessoa aparece em diferentes frames é comum repetir as imagens.\n",
    "\n",
    "> **Critério de sucesso:** identificação de 190 imagens de mulheres. Como uma mesma pessoa aparece em diferentes frames é comum repetir as imagens.\n",
    "\n",
    "> **Critério de sucesso:** identificação de 680 imagens de objetos selecionados. Como um mesmo objeto pode aparecer em diferentes frames é comum repetir as imagens"
   ]
  },
  {
   "cell_type": "markdown",
   "metadata": {},
   "source": [
    "## 7. Conclusões finais\n",
    "\n",
    "Com base nesta jornada de construção de modelos, análises de regiões de interesse e processamento de vídeo, comente quais seriam os principais pontos de melhoria para alcançar resultados melhores em todas as etapas."
   ]
  },
  {
   "cell_type": "markdown",
   "metadata": {},
   "source": [
    "**Resposta: **"
   ]
  }
 ],
 "metadata": {
  "kernelspec": {
   "display_name": "Python 3",
   "language": "python",
   "name": "python3"
  },
  "language_info": {
   "codemirror_mode": {
    "name": "ipython",
    "version": 3
   },
   "file_extension": ".py",
   "mimetype": "text/x-python",
   "name": "python",
   "nbconvert_exporter": "python",
   "pygments_lexer": "ipython3",
   "version": "3.7.4"
  }
 },
 "nbformat": 4,
 "nbformat_minor": 4
}
